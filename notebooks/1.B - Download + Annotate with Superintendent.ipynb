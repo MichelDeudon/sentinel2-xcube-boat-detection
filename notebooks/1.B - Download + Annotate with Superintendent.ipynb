{
 "cells": [
  {
   "cell_type": "markdown",
   "metadata": {},
   "source": [
    "# Counting Boats from Space (Part 1): Annotate Chips with Boat Counts and Superintendent"
   ]
  },
  {
   "cell_type": "code",
   "execution_count": null,
   "metadata": {},
   "outputs": [],
   "source": [
    "%reload_ext autoreload\n",
    "%autoreload 2\n",
    "%load_ext dotenv\n",
    "%dotenv\n",
    "%matplotlib inline"
   ]
  },
  {
   "cell_type": "code",
   "execution_count": null,
   "metadata": {},
   "outputs": [],
   "source": [
    "import os \n",
    "import sys\n",
    "import glob\n",
    "import json\n",
    "from pathlib import Path\n",
    "import pathlib\n",
    "\n",
    "sys.path.insert(0,os.path.dirname('../src/'))\n",
    "from preprocess import request_save_cubes\n",
    "from annotation_utils import display_image_and_references\n",
    "\n",
    "import pandas as pd\n",
    "import superintendent"
   ]
  },
  {
   "cell_type": "markdown",
   "metadata": {},
   "source": [
    "### 1.0 Define some variables"
   ]
  },
  {
   "cell_type": "code",
   "execution_count": null,
   "metadata": {},
   "outputs": [],
   "source": [
    "aoi_json_filepath = \"../data/aoi.json\"\n",
    "data_chips_dir = \"/home/jovyan/data/chips/\"\n",
    "\n",
    "start_date_2019 = '2019-01-01'\n",
    "end_date_2019 = '2019-06-30'\n",
    "\n",
    "start_date_2020 = '2020-01-01'\n",
    "end_date_2020 = '2020-06-30'"
   ]
  },
  {
   "cell_type": "markdown",
   "metadata": {},
   "source": [
    "### 1.1 If we want to download new location in aoi.json, request and download images"
   ]
  },
  {
   "cell_type": "code",
   "execution_count": null,
   "metadata": {},
   "outputs": [],
   "source": [
    "with open(aoi_json_filepath, \"r\") as f: \n",
    "    aoi_file = json.load(f)\n",
    "    straits_dict = aoi_file['Misc']\n",
    "    for aoi_name, aoi_locs in straits_dict.items():\n",
    "        for loc in aoi_locs:\n",
    "            lat, lon = loc[0], loc[1]\n",
    "            subdir = 'lat_{}_lon_{}'.format(str(lat).replace('.','_'), str(lon).replace('.','_'))\n",
    "            # 2019 \n",
    "            if not Path(data_chips_dir, subdir).exists() or len(list(Path(data_chips_dir, subdir).glob(\"*2019*.png\"))) == 0:\n",
    "                print(f\"aoi name: {aoi_name}, subdir {subdir}, download 2019 images\")\n",
    "                request_save_cubes(start_date_2019, end_date_2019, lat, lon)\n",
    "            # 2020\n",
    "            if not Path(data_chips_dir, subdir).exists() or len(list(Path(data_chips_dir, subdir).glob(\"*2020*.png\"))) == 0:\n",
    "                print(f\"aoi name: {aoi_name}, subdir {subdir}, download 2020 images\")\n",
    "                request_save_cubes(start_date_2020, end_date_2020, lat, lon)    "
   ]
  },
  {
   "cell_type": "markdown",
   "metadata": {},
   "source": [
    "### 1.2 extract images to be labeled"
   ]
  },
  {
   "cell_type": "code",
   "execution_count": null,
   "metadata": {},
   "outputs": [],
   "source": [
    "stratis_images = []\n",
    "with open(aoi_json_filepath, \"r\") as f: \n",
    "    aoi_file = json.load(f)\n",
    "    straits_dict = aoi_file['Misc']\n",
    "    for aoi_name, aoi_locs in straits_dict.items():\n",
    "        for loc in aoi_locs:\n",
    "            lat, lon = loc[0], loc[1]\n",
    "            subdir = 'lat_{}_lon_{}'.format(str(lat).replace('.','_'), str(lon).replace('.','_'))\n",
    "            if Path(data_chips_dir, subdir).exists():\n",
    "                stratis_images.extend(Path(data_chips_dir, subdir).glob(\"img_ndwi*.png\"))\n",
    "print(f\"In total we have {len(stratis_images)} images (img_ndwi) under {data_chips_dir} \")"
   ]
  },
  {
   "cell_type": "code",
   "execution_count": null,
   "metadata": {},
   "outputs": [],
   "source": [
    "## load the labels.csv file \n",
    "csv_file_path = \"../data/labels_lean.csv\"\n",
    "labels_df = pd.read_csv(csv_file_path)\n",
    "len(labels_df)"
   ]
  },
  {
   "cell_type": "code",
   "execution_count": null,
   "metadata": {},
   "outputs": [],
   "source": [
    "# define the images to be labeled \n",
    "tobe_labeled_images = []\n",
    "for dir_ in stratis_images:\n",
    "    timestamp = dir_.stem.split('t_')[1]\n",
    "    lat_lon = dir_.parts[-2]\n",
    "    lat_lon_t_df = labels_df[(labels_df[\"lat_lon\"] == lat_lon) & (labels_df[\"timestamp\"] == timestamp)]\n",
    "    if len(lat_lon_t_df) == 0 or null_labels_df:\n",
    "        tobe_labeled_images.append(dir_)"
   ]
  },
  {
   "cell_type": "code",
   "execution_count": null,
   "metadata": {},
   "outputs": [],
   "source": [
    "len(tobe_labeled_images)"
   ]
  },
  {
   "cell_type": "code",
   "execution_count": null,
   "metadata": {},
   "outputs": [],
   "source": [
    "# load superintendent and labelling\n",
    "labeller = superintendent.ClassLabeller(\n",
    "    features=tobe_labeled_images,\n",
    "    options=[i for i in range(-1, 6)],\n",
    "    display_func=display_image_and_references,\n",
    ")\n",
    "\n",
    "labeller"
   ]
  },
  {
   "cell_type": "code",
   "execution_count": null,
   "metadata": {},
   "outputs": [],
   "source": [
    "tobe_labeled_images\n",
    "labeller.new_labels\n",
    "print(len(tobe_labeled_images))"
   ]
  },
  {
   "cell_type": "code",
   "execution_count": null,
   "metadata": {},
   "outputs": [],
   "source": [
    "for i in range(len(tobe_labeled_images)):\n",
    "    timestamp = tobe_labeled_images[i].stem.split('t_')[1]\n",
    "    lat_lon = tobe_labeled_images[i].parts[-2]\n",
    "    count = labeller.new_labels[i]\n",
    "    labels_df = labels_df.append({\"lat_lon\": lat_lon, \"timestamp\": timestamp, \"count\": count}, ignore_index=True)\n",
    "print(f\"Now we have {len(labels_df)} labeled images (img_ndwi)\")   "
   ]
  },
  {
   "cell_type": "code",
   "execution_count": null,
   "metadata": {},
   "outputs": [],
   "source": [
    "labels_df = labels_df[labels_df[\"count\"].notnull()]"
   ]
  },
  {
   "cell_type": "code",
   "execution_count": null,
   "metadata": {},
   "outputs": [],
   "source": [
    "labels_df['count'] = labels_df['count'].astype(float)"
   ]
  },
  {
   "cell_type": "code",
   "execution_count": null,
   "metadata": {},
   "outputs": [],
   "source": [
    "labels_df['count'].hist()"
   ]
  },
  {
   "cell_type": "code",
   "execution_count": null,
   "metadata": {},
   "outputs": [],
   "source": [
    "# see how imbalance of the data is\n",
    "len(labels_df[labels_df['count'] > 0])/len(labels_df)"
   ]
  },
  {
   "cell_type": "markdown",
   "metadata": {},
   "source": [
    "### 1.3 Dump it to labels.csv file back"
   ]
  },
  {
   "cell_type": "code",
   "execution_count": null,
   "metadata": {},
   "outputs": [],
   "source": [
    "labels_df.to_csv(csv_file_path)"
   ]
  },
  {
   "cell_type": "markdown",
   "metadata": {},
   "source": [
    " ### Deprecated from here: From labels.csv to labels_lean.csv"
   ]
  },
  {
   "cell_type": "code",
   "execution_count": null,
   "metadata": {},
   "outputs": [],
   "source": [
    "labels_filename = \"../data/labels.csv\"\n",
    "df_labels = pd.read_csv(labels_filename, index_col = 'file_path', dtype={'count': float}) \n",
    "for index, row in df_labels.iterrows():\n",
    "    file_path = Path(index)\n",
    "    timestamp = file_path.stem.split('t_')[1]\n",
    "    lat_lon = file_path.parts[-2]\n",
    "    df_labels.at[index, \"timestamp\"] = timestamp\n",
    "    df_labels.at[index, \"lat_lon\"] = lat_lon"
   ]
  },
  {
   "cell_type": "markdown",
   "metadata": {},
   "source": [
    "### Sanity check if all lat_lon under data/chips is in the df. "
   ]
  },
  {
   "cell_type": "code",
   "execution_count": null,
   "metadata": {},
   "outputs": [],
   "source": [
    "data_dir = \"/home/jovyan/data/chips\"\n",
    "coords = os.listdir(data_dir)\n",
    "coords_in_df = df_labels.reset_index().groupby('lat_lon').groups.keys()\n",
    "for coord in coords:\n",
    "    if not coord.startswith(\".\"):\n",
    "        assert coord in coords_in_df"
   ]
  },
  {
   "cell_type": "code",
   "execution_count": null,
   "metadata": {},
   "outputs": [],
   "source": [
    "df_labels"
   ]
  },
  {
   "cell_type": "code",
   "execution_count": null,
   "metadata": {},
   "outputs": [],
   "source": [
    "df_labels.reset_index(inplace=True)"
   ]
  },
  {
   "cell_type": "code",
   "execution_count": null,
   "metadata": {},
   "outputs": [],
   "source": [
    "df_labels_lean = df_labels[['lat_lon', 'timestamp', 'count']]\n",
    "df_labels_lean"
   ]
  },
  {
   "cell_type": "code",
   "execution_count": null,
   "metadata": {},
   "outputs": [],
   "source": [
    "labels_lean_file = '../data/labels_lean.csv'\n",
    "df_labels_lean.to_csv(labels_lean_file)"
   ]
  }
 ],
 "metadata": {
  "kernelspec": {
   "display_name": "Python 3",
   "language": "python",
   "name": "python3"
  },
  "language_info": {
   "codemirror_mode": {
    "name": "ipython",
    "version": 3
   },
   "file_extension": ".py",
   "mimetype": "text/x-python",
   "name": "python",
   "nbconvert_exporter": "python",
   "pygments_lexer": "ipython3",
   "version": "3.7.6"
  }
 },
 "nbformat": 4,
 "nbformat_minor": 4
}
