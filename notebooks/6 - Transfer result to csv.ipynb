{
 "cells": [
  {
   "cell_type": "code",
   "execution_count": null,
   "metadata": {},
   "outputs": [],
   "source": [
    "%reload_ext autoreload\n",
    "%autoreload 2\n",
    "%load_ext dotenv\n",
    "%dotenv\n",
    "%matplotlib inline"
   ]
  },
  {
   "cell_type": "code",
   "execution_count": null,
   "metadata": {},
   "outputs": [],
   "source": [
    "import pandas as pd\n",
    "import os\n",
    "import sys\n",
    "import json\n",
    "from datetime import datetime\n"
   ]
  },
  {
   "cell_type": "code",
   "execution_count": null,
   "metadata": {},
   "outputs": [],
   "source": [
    "sys.path.insert(0,os.path.dirname('../src/'))"
   ]
  },
  {
   "cell_type": "code",
   "execution_count": null,
   "metadata": {},
   "outputs": [],
   "source": [
    "E1_template = pd.read_csv(\"../data/E1_template_from_RHEA.csv\")"
   ]
  },
  {
   "cell_type": "code",
   "execution_count": null,
   "metadata": {},
   "outputs": [],
   "source": [
    "E1_template.head(2)"
   ]
  },
  {
   "cell_type": "code",
   "execution_count": null,
   "metadata": {},
   "outputs": [],
   "source": [
    "E1_csv_output = pd.DataFrame(columns = E1_template.columns)"
   ]
  },
  {
   "cell_type": "code",
   "execution_count": null,
   "metadata": {},
   "outputs": [],
   "source": [
    "E1_csv_output.columns"
   ]
  },
  {
   "cell_type": "code",
   "execution_count": null,
   "metadata": {},
   "outputs": [],
   "source": [
    "with open('../data/aoi.json', 'r') as f:\n",
    "    aoi_file = json.load(f)\n",
    "\n",
    "interest = 'Final'"
   ]
  },
  {
   "cell_type": "code",
   "execution_count": null,
   "metadata": {},
   "outputs": [],
   "source": [
    "def get_color_code(date_time_str):\n",
    "    dt_obj = datetime.strptime(date_time_str, '%Y-%m-%d')\n",
    "    if dt_obj.year == 2020:\n",
    "        return \"RED\"\n",
    "    else:\n",
    "        return \"GREEN\"\n",
    "    \n",
    "sitename_to_countrycode = {\n",
    "        \"Sines\" : \"PT\",\n",
    "        \"Vigo\" : \"ES\",\n",
    "        \"Antwerp\" : \"BE\",\n",
    "        \"Budapest\" : \"HU\" ,\n",
    "        \"Rotterdam\" : \"NL\",\n",
    "        \"Kiel Canal\": \"DE\",\n",
    "        \"Grand Harbour\" : \"MT\",\n",
    "        \"Dublin\" : \"IE\",\n",
    "        \"Tallin-Helsinki\": \"FI\",\n",
    "        \"Limassol\" : \"CY\",\n",
    "        \"Athen Pireaus\" : \"GR\",\n",
    "        \"Bosporus\" : \"TR\",\n",
    "        \"Dardanelles\" : \"TR\",\n",
    "        \"Gibraltar\" :\"GB\",\n",
    "        \"Dover\" : \"GB\",\n",
    "        \"Corfu\" : \"GR\",\n",
    "        \"Messina\": \"IT\",\n",
    "        \"Oresund\": \"SE\",\n",
    "        \"Venice\" : \"IT\",\n",
    "        \"St Tropez\" :\"FR\",\n",
    "        \"Split\" : \"HR\"\n",
    "    }\n",
    "sitename_to_city = {\n",
    "        \"Sines\" : \"Sines\",\n",
    "        \"Vigo\" : \"Vigo\",\n",
    "        \"Antwerp\" : \"Antwerp\",\n",
    "        \"Budapest\" : \"Budapest\" ,\n",
    "        \"Rotterdam\" : \"Rotterdam\",\n",
    "        \"Kiel Canal\": \"Kiel\",\n",
    "        \"Grand Harbour\" : \"Valleta\",\n",
    "        \"Dublin\" : \"Dublin\",\n",
    "        \"Tallin-Helsinki\": \"Helsinki\",\n",
    "        \"Limassol\" : \"Limassol\",\n",
    "        \"Athen Pireaus\" : \"Athen\",\n",
    "        \"Bosporus\" : \"Bosporus\",\n",
    "        \"Dardanelles\" : \"Dardanelles\",\n",
    "        \"Gibraltar\" :\"Gibraltar\",\n",
    "        \"Dover\" : \"Dover\",\n",
    "        \"Corfu\" : \"Corfu\",\n",
    "        \"Messina\": \"Messina\",\n",
    "        \"Oresund\": \"Oresund\",\n",
    "        \"Venice\" : \"Venice\",\n",
    "        \"St Tropez\" :\"St Tropez\",\n",
    "        \"Split\" : \"Split\"\n",
    "    }\n",
    "  "
   ]
  },
  {
   "cell_type": "code",
   "execution_count": null,
   "metadata": {},
   "outputs": [],
   "source": []
  },
  {
   "cell_type": "code",
   "execution_count": null,
   "metadata": {},
   "outputs": [],
   "source": [
    "radius=7000\n",
    "version=\"0.1.1\"\n",
    "for sitename, lat_lons in aoi_file[interest].items():\n",
    "    for lat_lon in lat_lons:\n",
    "        output_file = '{}_lat={}_lon={}_r={}_v={}.json'.format(sitename.lower(), lat_lon[0], lat_lon[1], radius, version)\n",
    "        output_full_path = os.path.join(\"../data/outputs\", output_file)\n",
    "        if os.path.isfile(output_full_path):\n",
    "            f = open(output_full_path)\n",
    "            output_obj = json.load(f)\n",
    "            for time, count in output_obj.items():\n",
    "#                 print(f\"time: {time}, count: {count}\")\n",
    "                AOI = f\"{lat_lon[0]},{lat_lon[1]}\"\n",
    "                Country = sitename_to_countrycode[sitename]\n",
    "                City = sitename_to_city[sitename]\n",
    "                Site_name = sitename\n",
    "                Description = \"\"\n",
    "                Method = \"Object Counting\"\n",
    "                EO_sensor = \"Sentinel-2\"\n",
    "                Input_data = \"Sentinel 2 L1C\"\n",
    "                Indicator_code = \"E1\"\n",
    "                Reference_description = f\"Number of ships in {2 * radius / 1000} km x {2 * radius / 1000} km area\"\n",
    "                \n",
    "                if datetime.strptime(time, '%Y-%m-%d').year == 2020:\n",
    "                    Time = time\n",
    "                    Measurement_value = count\n",
    "                    Reference_time = \"\"\n",
    "                    Reference_value = \"\"\n",
    "                else:\n",
    "                    Time = \"\"\n",
    "                    Measurement_value = \"\"\n",
    "                    Reference_time = time\n",
    "                    Reference_value = count\n",
    "                \n",
    "                Rule = \"\"\n",
    "                Indicator_Value = \"\"\n",
    "                Sub_AOI = \"\"\n",
    "                Y_axis = \"Number of ships inferred\"\n",
    "                Indicator_Name = \"Changes in Ships traffic\"\n",
    "                Color_code = get_color_code(time)\n",
    "                Data_Provider = \"\"\n",
    "                AOI_ID = \"\"\n",
    "                Update_Frequency = \"Weekly\"\n",
    "                row = {'AOI':AOI, 'Country':Country, 'Region':\"\", 'City':City, 'Site Name':Site_name, 'Description':Description,\n",
    "                       'Method':Method, 'EO Sensor':EO_sensor, 'Input Data':Input_data, 'Indicator code':Indicator_code, 'Time':Time,\n",
    "                       'Measurement Value':Measurement_value, 'Reference Description':Reference_description, 'Reference time': Reference_time,\n",
    "                       'Reference value':Reference_value, 'Rule':Rule, 'Indicator Value':Indicator_Value, 'Sub-AOI':Sub_AOI, 'Y axis':Y_axis,\n",
    "                       'Indicator Name':Indicator_Name, 'Color code':Color_code, 'Data Provider':Data_Provider, 'AOI_ID':AOI_ID,\n",
    "                       'Update Frequency':Update_Frequency}\n",
    "                E1_csv_output = E1_csv_output.append(row, ignore_index=True)\n",
    "            "
   ]
  },
  {
   "cell_type": "code",
   "execution_count": null,
   "metadata": {},
   "outputs": [],
   "source": [
    "E1_csv_output.head(3)"
   ]
  },
  {
   "cell_type": "code",
   "execution_count": null,
   "metadata": {},
   "outputs": [],
   "source": [
    "E1_csv_output.to_csv(f\"../data/E1_{datetime.now()}.csv\")"
   ]
  }
 ],
 "metadata": {
  "kernelspec": {
   "display_name": "EDC-GPU 0.19.6 (Python3)",
   "language": "python",
   "name": "edc-gpu"
  },
  "language_info": {
   "codemirror_mode": {
    "name": "ipython",
    "version": 3
   },
   "file_extension": ".py",
   "mimetype": "text/x-python",
   "name": "python",
   "nbconvert_exporter": "python",
   "pygments_lexer": "ipython3",
   "version": "3.7.6"
  }
 },
 "nbformat": 4,
 "nbformat_minor": 4
}
