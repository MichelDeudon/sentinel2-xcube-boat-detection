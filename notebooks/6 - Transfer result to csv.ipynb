{
 "cells": [
  {
   "cell_type": "code",
   "execution_count": 6,
   "metadata": {},
   "outputs": [],
   "source": [
    "%reload_ext autoreload\n",
    "%autoreload 2\n",
    "%load_ext dotenv\n",
    "%dotenv\n",
    "%matplotlib inline"
   ]
  },
  {
   "cell_type": "code",
   "execution_count": 7,
   "metadata": {},
   "outputs": [],
   "source": [
    "import pandas as pd\n",
    "import os\n",
    "import sys\n",
    "import json\n"
   ]
  },
  {
   "cell_type": "code",
   "execution_count": 8,
   "metadata": {},
   "outputs": [],
   "source": [
    "sys.path.insert(0,os.path.dirname('../src/'))"
   ]
  },
  {
   "cell_type": "code",
   "execution_count": 9,
   "metadata": {},
   "outputs": [],
   "source": [
    "E1_template = pd.read_csv(\"../data/E1.csv\")"
   ]
  },
  {
   "cell_type": "code",
   "execution_count": 10,
   "metadata": {},
   "outputs": [
    {
     "data": {
      "text/html": [
       "<div>\n",
       "<style scoped>\n",
       "    .dataframe tbody tr th:only-of-type {\n",
       "        vertical-align: middle;\n",
       "    }\n",
       "\n",
       "    .dataframe tbody tr th {\n",
       "        vertical-align: top;\n",
       "    }\n",
       "\n",
       "    .dataframe thead th {\n",
       "        text-align: right;\n",
       "    }\n",
       "</style>\n",
       "<table border=\"1\" class=\"dataframe\">\n",
       "  <thead>\n",
       "    <tr style=\"text-align: right;\">\n",
       "      <th></th>\n",
       "      <th>AOI</th>\n",
       "      <th>Country</th>\n",
       "      <th>Region</th>\n",
       "      <th>City</th>\n",
       "      <th>Site Name</th>\n",
       "      <th>Description</th>\n",
       "      <th>Method</th>\n",
       "      <th>EO Sensor</th>\n",
       "      <th>Input Data</th>\n",
       "      <th>Indicator code</th>\n",
       "      <th>...</th>\n",
       "      <th>Reference value</th>\n",
       "      <th>Rule</th>\n",
       "      <th>Indicator Value</th>\n",
       "      <th>Sub-AOI</th>\n",
       "      <th>Y axis</th>\n",
       "      <th>Indicator Name</th>\n",
       "      <th>Color code</th>\n",
       "      <th>Data Provider</th>\n",
       "      <th>AOI_ID</th>\n",
       "      <th>Update Frequency</th>\n",
       "    </tr>\n",
       "  </thead>\n",
       "  <tbody>\n",
       "    <tr>\n",
       "      <th>0</th>\n",
       "      <td>44.408142,8.885851</td>\n",
       "      <td>IT</td>\n",
       "      <td>NaN</td>\n",
       "      <td>Genoa</td>\n",
       "      <td>Port of Genoa and surrounding industrial areas</td>\n",
       "      <td>Import/production sites: status of metallic ores</td>\n",
       "      <td>Object detection on VHR data as proxy for acti...</td>\n",
       "      <td>Planetscope</td>\n",
       "      <td>[NEW] Planetscope COVID-19</td>\n",
       "      <td>E1</td>\n",
       "      <td>...</td>\n",
       "      <td>3</td>\n",
       "      <td>X is the Measurement value. If  X&lt;(ref_value-3...</td>\n",
       "      <td>Normal</td>\n",
       "      <td>MULTIPOLYGON(((8.863167  44.404538,8.86803 44....</td>\n",
       "      <td>Number of ships at piers</td>\n",
       "      <td>Changes in Ships traffic at dedicated piers</td>\n",
       "      <td>BLUE</td>\n",
       "      <td>EMSS</td>\n",
       "      <td>IT3</td>\n",
       "      <td>Weekly</td>\n",
       "    </tr>\n",
       "    <tr>\n",
       "      <th>1</th>\n",
       "      <td>44.408142,8.885851</td>\n",
       "      <td>IT</td>\n",
       "      <td>NaN</td>\n",
       "      <td>Genoa</td>\n",
       "      <td>Port of Genoa and surrounding industrial areas</td>\n",
       "      <td>Import/production sites: status of metallic ores</td>\n",
       "      <td>Object detection on VHR data as proxy for acti...</td>\n",
       "      <td>Planetscope</td>\n",
       "      <td>[NEW] Planetscope COVID-19</td>\n",
       "      <td>E1</td>\n",
       "      <td>...</td>\n",
       "      <td>3</td>\n",
       "      <td>X is the Measurement value. If  X&lt;(ref_value-3...</td>\n",
       "      <td>Low</td>\n",
       "      <td>MULTIPOLYGON(((8.863167  44.404538,8.86803 44....</td>\n",
       "      <td>Number of ships at piers</td>\n",
       "      <td>Changes in Ships traffic at dedicated piers</td>\n",
       "      <td>RED</td>\n",
       "      <td>EMSS</td>\n",
       "      <td>IT3</td>\n",
       "      <td>Weekly</td>\n",
       "    </tr>\n",
       "  </tbody>\n",
       "</table>\n",
       "<p>2 rows × 24 columns</p>\n",
       "</div>"
      ],
      "text/plain": [
       "                  AOI Country  Region   City  \\\n",
       "0  44.408142,8.885851      IT     NaN  Genoa   \n",
       "1  44.408142,8.885851      IT     NaN  Genoa   \n",
       "\n",
       "                                        Site Name  \\\n",
       "0  Port of Genoa and surrounding industrial areas   \n",
       "1  Port of Genoa and surrounding industrial areas   \n",
       "\n",
       "                                        Description  \\\n",
       "0  Import/production sites: status of metallic ores   \n",
       "1  Import/production sites: status of metallic ores   \n",
       "\n",
       "                                              Method    EO Sensor  \\\n",
       "0  Object detection on VHR data as proxy for acti...  Planetscope   \n",
       "1  Object detection on VHR data as proxy for acti...  Planetscope   \n",
       "\n",
       "                   Input Data Indicator code  ... Reference value  \\\n",
       "0  [NEW] Planetscope COVID-19             E1  ...               3   \n",
       "1  [NEW] Planetscope COVID-19             E1  ...               3   \n",
       "\n",
       "                                                Rule Indicator Value  \\\n",
       "0  X is the Measurement value. If  X<(ref_value-3...          Normal   \n",
       "1  X is the Measurement value. If  X<(ref_value-3...             Low   \n",
       "\n",
       "                                             Sub-AOI  \\\n",
       "0  MULTIPOLYGON(((8.863167  44.404538,8.86803 44....   \n",
       "1  MULTIPOLYGON(((8.863167  44.404538,8.86803 44....   \n",
       "\n",
       "                     Y axis                               Indicator Name  \\\n",
       "0  Number of ships at piers  Changes in Ships traffic at dedicated piers   \n",
       "1  Number of ships at piers  Changes in Ships traffic at dedicated piers   \n",
       "\n",
       "  Color code Data Provider AOI_ID Update Frequency  \n",
       "0       BLUE          EMSS    IT3           Weekly  \n",
       "1        RED          EMSS    IT3           Weekly  \n",
       "\n",
       "[2 rows x 24 columns]"
      ]
     },
     "execution_count": 10,
     "metadata": {},
     "output_type": "execute_result"
    }
   ],
   "source": [
    "E1_template.head(2)"
   ]
  },
  {
   "cell_type": "code",
   "execution_count": 35,
   "metadata": {},
   "outputs": [],
   "source": [
    "E1_csv_output = pd.DataFrame(columns = E1_template.columns)"
   ]
  },
  {
   "cell_type": "code",
   "execution_count": 36,
   "metadata": {},
   "outputs": [
    {
     "data": {
      "text/plain": [
       "Index(['AOI', 'Country', 'Region', 'City', 'Site Name', 'Description',\n",
       "       'Method', 'EO Sensor', 'Input Data', 'Indicator code', 'Time',\n",
       "       'Measurement Value', 'Reference Description', 'Reference time',\n",
       "       'Reference value', 'Rule', 'Indicator Value', 'Sub-AOI', 'Y axis',\n",
       "       'Indicator Name', 'Color code', 'Data Provider', 'AOI_ID',\n",
       "       'Update Frequency'],\n",
       "      dtype='object')"
      ]
     },
     "execution_count": 36,
     "metadata": {},
     "output_type": "execute_result"
    }
   ],
   "source": [
    "E1_csv_output.columns"
   ]
  },
  {
   "cell_type": "code",
   "execution_count": 13,
   "metadata": {},
   "outputs": [],
   "source": [
    "with open('../data/aoi.json', 'r') as f:\n",
    "    aoi_file = json.load(f)\n",
    "\n",
    "interest = 'Final'"
   ]
  },
  {
   "cell_type": "code",
   "execution_count": 37,
   "metadata": {},
   "outputs": [],
   "source": [
    "def get_color_code(date_time_str):\n",
    "    dt_obj = datetime.strptime(date_time_str, '%Y-%m-%d')\n",
    "    if dt_obj.year == 2020:\n",
    "        return \"RED\"\n",
    "    else:\n",
    "        return \"GREEN\"\n",
    "    \n",
    "sitename_to_countrycode = {\n",
    "        \"Sines\" : \"PT\",\n",
    "        \"Vigo\" : \"ES\",\n",
    "        \"Antwerp\" : \"BE\",\n",
    "        \"Budapest\" : \"HU\" ,\n",
    "        \"Rotterdam\" : \"NL\",\n",
    "        \"Kiel Canal\": \"DE\",\n",
    "        \"Grand Harbour\" : \"MT\",\n",
    "        \"Dublin\" : \"IE\",\n",
    "        \"Tallin-Helsinki\": \"FI\",\n",
    "        \"Limassol\" : \"CY\",\n",
    "        \"Athen Pireaus\" : \"GR\",\n",
    "        \"Bosporus\" : \"TR\",\n",
    "        \"Dardanelles\" : \"TR\",\n",
    "        \"Gibraltar\" :\"GB\",\n",
    "        \"Dover\" : \"GB\",\n",
    "        \"Corfu\" : \"GR\",\n",
    "        \"Messina\": \"IT\",\n",
    "        \"Oresund\": \"SE\",\n",
    "        \"Venice\" : \"IT\",\n",
    "        \"St Tropez\" :\"FR\",\n",
    "        \"Split\" : \"HR\"\n",
    "    }\n",
    "sitename_to_city = {\n",
    "        \"Sines\" : \"Sines\",\n",
    "        \"Vigo\" : \"Vigo\",\n",
    "        \"Antwerp\" : \"Antwerp\",\n",
    "        \"Budapest\" : \"Budapest\" ,\n",
    "        \"Rotterdam\" : \"Rotterdam\",\n",
    "        \"Kiel Canal\": \"Kiel\",\n",
    "        \"Grand Harbour\" : \"Valleta\",\n",
    "        \"Dublin\" : \"Dublin\",\n",
    "        \"Tallin-Helsinki\": \"Helsinki\",\n",
    "        \"Limassol\" : \"Limassol\",\n",
    "        \"Athen Pireaus\" : \"Athen\",\n",
    "        \"Bosporus\" : \"Bosporus\",\n",
    "        \"Dardanelles\" : \"Dardanelles\",\n",
    "        \"Gibraltar\" :\"Gibraltar\",\n",
    "        \"Dover\" : \"Dover\",\n",
    "        \"Corfu\" : \"Corfu\",\n",
    "        \"Messina\": \"Messina\",\n",
    "        \"Oresund\": \"Oresund\",\n",
    "        \"Venice\" : \"Venice\",\n",
    "        \"St Tropez\" :\"St Tropez\",\n",
    "        \"Split\" : \"Split\"\n",
    "    }\n",
    "  "
   ]
  },
  {
   "cell_type": "code",
   "execution_count": 38,
   "metadata": {},
   "outputs": [],
   "source": [
    "radius=7000\n",
    "version=\"0.1.1\"\n",
    "for sitename, lat_lons in aoi_file[interest].items():\n",
    "    for lat_lon in lat_lons:\n",
    "        output_file = '{}_lat={}_lon={}_r={}_v={}.json'.format(sitename.lower(), lat_lon[0], lat_lon[1], radius, version)\n",
    "        output_full_path = os.path.join(\"../data/outputs\", output_file)\n",
    "        if os.path.isfile(output_full_path):\n",
    "            f = open(output_full_path)\n",
    "            output_obj = json.load(f)\n",
    "            for time, count in output_obj.items():\n",
    "#                 print(f\"time: {time}, count: {count}\")\n",
    "                AOI = f\"{lat_lon[0]},{lat_lon[1]}\"\n",
    "                Country = sitename_to_countrycode[sitename]\n",
    "                City = sitename_to_city[sitename]\n",
    "                Site_name = sitename\n",
    "                Description = \"\"\n",
    "                Method = \"Object Counting\"\n",
    "                EO_sensor = \"Sentinel-2\"\n",
    "                Input_data = \"Sentinel 2 L1C\"\n",
    "                Indicator_code = \"E1\"\n",
    "                Time = time\n",
    "                Measurement_value = count\n",
    "                Reference_description = f\"Number of ships in {2 * radius / 1000} km x {2 * radius / 1000} km area\"\n",
    "                Reference_time = time\n",
    "                Reference_value = \"\"\n",
    "                Rule = \"\"\n",
    "                Indicator_Value = \"\"\n",
    "                Sub_AOI = \"\"\n",
    "                Y_axis = \"Number of ships inferred\"\n",
    "                Indicator_Name = \"Changes in Ships traffic\"\n",
    "                Color_code = get_color_code(time)\n",
    "                Data_Provider = \"\"\n",
    "                AOI_ID = \"\"\n",
    "                Update_Frequency = \"Weekly\"\n",
    "                row = {'AOI':AOI, 'Country':Country, 'Region':\"\", 'City':City, 'Site Name':Site_name, 'Description':Description,\n",
    "                       'Method':Method, 'EO Sensor':EO_sensor, 'Input Data':Input_data, 'Indicator code':Indicator_code, 'Time':Time,\n",
    "                       'Measurement Value':Measurement_value, 'Reference Description':Reference_description, 'Reference time': Reference_time,\n",
    "                       'Reference value':Reference_value, 'Rule':Rule, 'Indicator Value':Indicator_Value, 'Sub-AOI':Sub_AOI, 'Y axis':Y_axis,\n",
    "                       'Indicator Name':Indicator_Name, 'Color code':Color_code, 'Data Provider':Data_Provider, 'AOI_ID':AOI_ID,\n",
    "                       'Update Frequency':Update_Frequency}\n",
    "                E1_csv_output = E1_csv_output.append(row, ignore_index=True)\n",
    "            "
   ]
  },
  {
   "cell_type": "code",
   "execution_count": 39,
   "metadata": {},
   "outputs": [
    {
     "data": {
      "text/html": [
       "<div>\n",
       "<style scoped>\n",
       "    .dataframe tbody tr th:only-of-type {\n",
       "        vertical-align: middle;\n",
       "    }\n",
       "\n",
       "    .dataframe tbody tr th {\n",
       "        vertical-align: top;\n",
       "    }\n",
       "\n",
       "    .dataframe thead th {\n",
       "        text-align: right;\n",
       "    }\n",
       "</style>\n",
       "<table border=\"1\" class=\"dataframe\">\n",
       "  <thead>\n",
       "    <tr style=\"text-align: right;\">\n",
       "      <th></th>\n",
       "      <th>AOI</th>\n",
       "      <th>Country</th>\n",
       "      <th>Region</th>\n",
       "      <th>City</th>\n",
       "      <th>Site Name</th>\n",
       "      <th>Description</th>\n",
       "      <th>Method</th>\n",
       "      <th>EO Sensor</th>\n",
       "      <th>Input Data</th>\n",
       "      <th>Indicator code</th>\n",
       "      <th>...</th>\n",
       "      <th>Reference value</th>\n",
       "      <th>Rule</th>\n",
       "      <th>Indicator Value</th>\n",
       "      <th>Sub-AOI</th>\n",
       "      <th>Y axis</th>\n",
       "      <th>Indicator Name</th>\n",
       "      <th>Color code</th>\n",
       "      <th>Data Provider</th>\n",
       "      <th>AOI_ID</th>\n",
       "      <th>Update Frequency</th>\n",
       "    </tr>\n",
       "  </thead>\n",
       "  <tbody>\n",
       "    <tr>\n",
       "      <th>0</th>\n",
       "      <td>37.88,-8.91</td>\n",
       "      <td>PT</td>\n",
       "      <td></td>\n",
       "      <td>Sines</td>\n",
       "      <td>Sines</td>\n",
       "      <td></td>\n",
       "      <td>Object Counting</td>\n",
       "      <td>Sentinel-2</td>\n",
       "      <td>Sentinel 2 L1C</td>\n",
       "      <td>E1</td>\n",
       "      <td>...</td>\n",
       "      <td></td>\n",
       "      <td></td>\n",
       "      <td></td>\n",
       "      <td></td>\n",
       "      <td>Number of ships inferred</td>\n",
       "      <td>Changes in Ships traffic</td>\n",
       "      <td>GREEN</td>\n",
       "      <td></td>\n",
       "      <td></td>\n",
       "      <td>Weekly</td>\n",
       "    </tr>\n",
       "    <tr>\n",
       "      <th>1</th>\n",
       "      <td>37.88,-8.91</td>\n",
       "      <td>PT</td>\n",
       "      <td></td>\n",
       "      <td>Sines</td>\n",
       "      <td>Sines</td>\n",
       "      <td></td>\n",
       "      <td>Object Counting</td>\n",
       "      <td>Sentinel-2</td>\n",
       "      <td>Sentinel 2 L1C</td>\n",
       "      <td>E1</td>\n",
       "      <td>...</td>\n",
       "      <td></td>\n",
       "      <td></td>\n",
       "      <td></td>\n",
       "      <td></td>\n",
       "      <td>Number of ships inferred</td>\n",
       "      <td>Changes in Ships traffic</td>\n",
       "      <td>GREEN</td>\n",
       "      <td></td>\n",
       "      <td></td>\n",
       "      <td>Weekly</td>\n",
       "    </tr>\n",
       "    <tr>\n",
       "      <th>2</th>\n",
       "      <td>37.88,-8.91</td>\n",
       "      <td>PT</td>\n",
       "      <td></td>\n",
       "      <td>Sines</td>\n",
       "      <td>Sines</td>\n",
       "      <td></td>\n",
       "      <td>Object Counting</td>\n",
       "      <td>Sentinel-2</td>\n",
       "      <td>Sentinel 2 L1C</td>\n",
       "      <td>E1</td>\n",
       "      <td>...</td>\n",
       "      <td></td>\n",
       "      <td></td>\n",
       "      <td></td>\n",
       "      <td></td>\n",
       "      <td>Number of ships inferred</td>\n",
       "      <td>Changes in Ships traffic</td>\n",
       "      <td>GREEN</td>\n",
       "      <td></td>\n",
       "      <td></td>\n",
       "      <td>Weekly</td>\n",
       "    </tr>\n",
       "  </tbody>\n",
       "</table>\n",
       "<p>3 rows × 24 columns</p>\n",
       "</div>"
      ],
      "text/plain": [
       "           AOI Country Region   City Site Name Description           Method  \\\n",
       "0  37.88,-8.91      PT         Sines     Sines              Object Counting   \n",
       "1  37.88,-8.91      PT         Sines     Sines              Object Counting   \n",
       "2  37.88,-8.91      PT         Sines     Sines              Object Counting   \n",
       "\n",
       "    EO Sensor      Input Data Indicator code  ... Reference value  Rule  \\\n",
       "0  Sentinel-2  Sentinel 2 L1C             E1  ...                         \n",
       "1  Sentinel-2  Sentinel 2 L1C             E1  ...                         \n",
       "2  Sentinel-2  Sentinel 2 L1C             E1  ...                         \n",
       "\n",
       "  Indicator Value Sub-AOI                    Y axis            Indicator Name  \\\n",
       "0                          Number of ships inferred  Changes in Ships traffic   \n",
       "1                          Number of ships inferred  Changes in Ships traffic   \n",
       "2                          Number of ships inferred  Changes in Ships traffic   \n",
       "\n",
       "  Color code Data Provider AOI_ID Update Frequency  \n",
       "0      GREEN                                Weekly  \n",
       "1      GREEN                                Weekly  \n",
       "2      GREEN                                Weekly  \n",
       "\n",
       "[3 rows x 24 columns]"
      ]
     },
     "execution_count": 39,
     "metadata": {},
     "output_type": "execute_result"
    }
   ],
   "source": [
    "E1_csv_output.head(3)"
   ]
  },
  {
   "cell_type": "code",
   "execution_count": 40,
   "metadata": {},
   "outputs": [],
   "source": [
    "E1_csv_output.to_csv(f\"../data/E1_{datetime.now()}.csv\")"
   ]
  },
  {
   "cell_type": "code",
   "execution_count": 2,
   "metadata": {},
   "outputs": [],
   "source": [
    "\n",
    "def get_measurement_value_2020(output_obj):\n",
    "    pass\n",
    "\n",
    "def get_reference_time_2019_2018(output_obj):\n",
    "    pass\n",
    "\n",
    "# output_obj is the json object\n",
    "def get_reference_value_2019_2018(output_obj):\n",
    "    for time, count in output_obj.items():\n",
    "        pass\n",
    "\n",
    "def get_color():\n",
    "    pass\n",
    "\n",
    "def get_indicator_value():\n",
    "    pass\n",
    "    "
   ]
  },
  {
   "cell_type": "code",
   "execution_count": 4,
   "metadata": {},
   "outputs": [
    {
     "data": {
      "text/plain": [
       "datetime.datetime(2020, 1, 1, 0, 0)"
      ]
     },
     "execution_count": 4,
     "metadata": {},
     "output_type": "execute_result"
    }
   ],
   "source": [
    "date_time_str = \"2020-01-01\"\n",
    "dt_obj = datetime.strptime(date_time_str, '%Y-%m-%d')\n",
    "dt_obj"
   ]
  },
  {
   "cell_type": "code",
   "execution_count": 5,
   "metadata": {},
   "outputs": [
    {
     "data": {
      "text/plain": [
       "2020"
      ]
     },
     "execution_count": 5,
     "metadata": {},
     "output_type": "execute_result"
    }
   ],
   "source": [
    "def get_color_code(date_time_str):\n",
    "    dt_obj = datetime.strptime(date_time_str, '%Y-%m-%d')\n",
    "    if dt_obj.year == 2020:\n",
    "        return \"RED\"\n",
    "    elif:\n",
    "        return \"GREEN\""
   ]
  },
  {
   "cell_type": "code",
   "execution_count": 33,
   "metadata": {},
   "outputs": [
    {
     "name": "stdout",
     "output_type": "stream",
     "text": [
      "2020-07-11\n"
     ]
    }
   ],
   "source": [
    "print(datetime.now().date())"
   ]
  },
  {
   "cell_type": "code",
   "execution_count": null,
   "metadata": {},
   "outputs": [],
   "source": []
  }
 ],
 "metadata": {
  "kernelspec": {
   "display_name": "Python 3",
   "language": "python",
   "name": "python3"
  },
  "language_info": {
   "codemirror_mode": {
    "name": "ipython",
    "version": 3
   },
   "file_extension": ".py",
   "mimetype": "text/x-python",
   "name": "python",
   "nbconvert_exporter": "python",
   "pygments_lexer": "ipython3",
   "version": "3.7.6"
  }
 },
 "nbformat": 4,
 "nbformat_minor": 4
}
