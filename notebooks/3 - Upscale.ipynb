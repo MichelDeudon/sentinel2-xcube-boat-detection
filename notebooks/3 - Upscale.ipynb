{
 "cells": [
  {
   "cell_type": "markdown",
   "metadata": {},
   "source": [
    "# Counting Boats from Space (Part 3) - Upscale Boat Traffic Monitoring"
   ]
  },
  {
   "cell_type": "code",
   "execution_count": null,
   "metadata": {},
   "outputs": [],
   "source": [
    "%reload_ext autoreload\n",
    "%autoreload 2\n",
    "%load_ext dotenv\n",
    "%dotenv\n",
    "%matplotlib inline"
   ]
  },
  {
   "cell_type": "markdown",
   "metadata": {},
   "source": [
    "## 1. Display AOI on map"
   ]
  },
  {
   "cell_type": "code",
   "execution_count": null,
   "metadata": {},
   "outputs": [],
   "source": [
    "import os\n",
    "import sys\n",
    "import json"
   ]
  },
  {
   "cell_type": "code",
   "execution_count": null,
   "metadata": {},
   "outputs": [],
   "source": [
    "sys.path.insert(0,os.path.dirname('../src/'))"
   ]
  },
  {
   "cell_type": "code",
   "execution_count": null,
   "metadata": {},
   "outputs": [],
   "source": [
    "from dataset import plot_geoloc"
   ]
  },
  {
   "cell_type": "code",
   "execution_count": null,
   "metadata": {},
   "outputs": [],
   "source": [
    "# interests = [\"EU_Fisheries\", \"EU_Fluvial\", \"EU_Ports\", \"EU_Straits\", \"EU_Tourism\", \"Misc\", \"Final\"']"
   ]
  },
  {
   "cell_type": "code",
   "execution_count": null,
   "metadata": {},
   "outputs": [],
   "source": [
    "with open('../data/aoi.json', 'r') as f:\n",
    "    aoi_file = json.load(f)\n",
    "\n",
    "interest = 'Final'\n",
    "fig = plot_geoloc([lat_lon[:2] for snaps in list(aoi_file[interest].values()) for lat_lon in snaps], [lat_lon[:2] for snaps in list(aoi_file[interest].values()) for lat_lon in snaps])\n",
    "#fig"
   ]
  },
  {
   "cell_type": "markdown",
   "metadata": {},
   "source": [
    "## 2. Scan AOI"
   ]
  },
  {
   "cell_type": "code",
   "execution_count": null,
   "metadata": {},
   "outputs": [],
   "source": [
    "from serve import scan_AOI, analyze_boat_traffic"
   ]
  },
  {
   "cell_type": "code",
   "execution_count": null,
   "metadata": {},
   "outputs": [],
   "source": [
    "boat_traffic = scan_AOI(interest=interest,\n",
    "                        time_windows=[\n",
    "                                      ['2018-09-22', '2018-12-21'], ['2018-12-22', '2019-03-21'],\n",
    "                                      ['2019-03-22', '2019-06-21'], ['2019-06-22', '2019-09-21'], ['2019-09-22', '2019-12-21'], ['2019-12-22', '2020-03-21'],\n",
    "                                      ['2020-03-22', '2020-06-21']\n",
    "                                     ], \n",
    "                        data_dir=\"../data\", checkpoint_dir=\"../factory\", version=\"0.1.1\",\n",
    "                        time_period='1D', max_cloud_proba=0.3, override=False)"
   ]
  },
  {
   "cell_type": "markdown",
   "metadata": {},
   "source": [
    "## 3. Plot results"
   ]
  },
  {
   "cell_type": "code",
   "execution_count": null,
   "metadata": {},
   "outputs": [],
   "source": [
    "analyze_boat_traffic(boat_traffic, kernel_size=1, week_day=None, aggregate_by_month=True, # optionally filter by week day and aggregate results by months\n",
    "                     deltas=[ [['2018-12-22','2019-03-21'], ['2019-12-22','2020-03-21']], [['2019-03-22','2019-06-21'], ['2020-03-22','2020-06-21']]],\n",
    "                    )"
   ]
  },
  {
   "cell_type": "code",
   "execution_count": null,
   "metadata": {},
   "outputs": [],
   "source": [
    "##### TODO: Filter cube dates with previous results and save what is new.\n",
    "##### TODO: Save heatmaps/density maps (T,1,H,W) and cloud coverage\n",
    "##### TODO: Edit data/aoi.json radius\n",
    "##### TODO: Automate analysis for AOI + time window"
   ]
  }
 ],
 "metadata": {
  "kernelspec": {
   "display_name": "Python 3",
   "language": "python",
   "name": "python3"
  },
  "language_info": {
   "codemirror_mode": {
    "name": "ipython",
    "version": 3
   },
   "file_extension": ".py",
   "mimetype": "text/x-python",
   "name": "python",
   "nbconvert_exporter": "python",
   "pygments_lexer": "ipython3",
   "version": "3.7.6"
  }
 },
 "nbformat": 4,
 "nbformat_minor": 4
}
