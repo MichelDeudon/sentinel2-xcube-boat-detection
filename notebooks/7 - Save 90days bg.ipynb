{
 "cells": [
  {
   "cell_type": "markdown",
   "metadata": {},
   "source": [
    "# Generate and dump bg_ndwi from last 90days images"
   ]
  },
  {
   "cell_type": "code",
   "execution_count": null,
   "metadata": {},
   "outputs": [],
   "source": [
    "%reload_ext autoreload\n",
    "%autoreload 2\n",
    "%load_ext dotenv\n",
    "%dotenv\n",
    "%matplotlib inline"
   ]
  },
  {
   "cell_type": "markdown",
   "metadata": {},
   "source": [
    "## 1. Display AOI on map"
   ]
  },
  {
   "cell_type": "code",
   "execution_count": null,
   "metadata": {},
   "outputs": [],
   "source": [
    "import os\n",
    "import sys\n",
    "import json\n",
    "from datetime import datetime\n",
    "from datetime import timedelta"
   ]
  },
  {
   "cell_type": "code",
   "execution_count": null,
   "metadata": {
    "tags": [
     "parameters"
    ]
   },
   "outputs": [],
   "source": [
    "end_date = str(datetime.now().date())\n",
    "start_date = str(datetime.now().date() - timedelta(days = 90))\n",
    "aoi_file_path = '../data/aoi.json'\n",
    "interest = \"Final\"\n",
    "data_dir=\"../data\"\n",
    "\n",
    "time_period='1D'\n",
    "max_cloud_proba=0.3 \n",
    "override=False\n",
    "bg_ndwi_dir_prefix=\"/home/jovyan/data/bg_ndwi\""
   ]
  },
  {
   "cell_type": "code",
   "execution_count": null,
   "metadata": {},
   "outputs": [],
   "source": [
    "bg_ndwi_dir = bg_ndwi_dir_prefix + \"_\" + end_date\n",
    "print(str(end_date))\n",
    "print(str(start_date))\n",
    "print(bg_ndwi_dir)\n",
    "os.makedirs(bg_ndwi_dir, exist_ok=True)"
   ]
  },
  {
   "cell_type": "code",
   "execution_count": null,
   "metadata": {},
   "outputs": [],
   "source": [
    "sys.path.insert(0,os.path.dirname('../src/'))\n",
    "from serve import save_bg_ndwi"
   ]
  },
  {
   "cell_type": "markdown",
   "metadata": {},
   "source": [
    "## 2. Save bg_ndwi"
   ]
  },
  {
   "cell_type": "code",
   "execution_count": null,
   "metadata": {},
   "outputs": [],
   "source": [
    "with open(aoi_file_path, 'r') as f:\n",
    "    aoi_file = json.load(f)\n",
    "    save_bg_ndwi(interest=interest, time_window=[start_date, end_date],\n",
    "                 data_dir=data_dir, bg_ndwi_dir=bg_ndwi_dir,\n",
    "                 time_period=time_period, max_cloud_proba=max_cloud_proba,\n",
    "                 override=override)"
   ]
  }
 ],
 "metadata": {
  "kernelspec": {
   "display_name": "Python 3",
   "language": "python",
   "name": "python3"
  },
  "language_info": {
   "codemirror_mode": {
    "name": "ipython",
    "version": 3
   },
   "file_extension": ".py",
   "mimetype": "text/x-python",
   "name": "python",
   "nbconvert_exporter": "python",
   "pygments_lexer": "ipython3",
   "version": "3.7.6"
  }
 },
 "nbformat": 4,
 "nbformat_minor": 4
}
