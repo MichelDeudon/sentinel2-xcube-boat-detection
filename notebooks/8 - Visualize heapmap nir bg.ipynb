{
 "cells": [
  {
   "cell_type": "code",
   "execution_count": null,
   "metadata": {},
   "outputs": [],
   "source": [
    "%reload_ext autoreload\n",
    "%autoreload 2\n",
    "%load_ext dotenv\n",
    "%dotenv\n",
    "%matplotlib inline"
   ]
  },
  {
   "cell_type": "code",
   "execution_count": null,
   "metadata": {},
   "outputs": [],
   "source": [
    "import os\n",
    "import sys\n",
    "import json\n",
    "from datetime import datetime, timedelta\n",
    "import pandas as pd\n",
    "import numpy as np\n",
    "import matplotlib.pyplot as plt"
   ]
  },
  {
   "cell_type": "code",
   "execution_count": null,
   "metadata": {},
   "outputs": [],
   "source": [
    "lat = 60.12\n",
    "lon = 24.9\n",
    "\n",
    "\n",
    "timestamp = \"2020-06-23\"\n",
    "data_dir = \"/home/jovyan/data\"\n",
    "subdir = 'lat_{}_lon_{}'.format(str(lat).replace('.', '_'), str(lon).replace('.', '_'))\n",
    "heatmap = np.load(os.path.join(data_dir, \"heatmaps\", subdir , timestamp + '.npy'))\n",
    "bg_ndwi = np.load(os.path.join(data_dir, \"bg_ndwi_2019-03-21\", subdir, \"bg_ndwi.npy\"))\n",
    "b08 = np.load(os.path.join(data_dir, \"B08\", subdir , timestamp + '.npy'))\n",
    "\n",
    "f, (ax1, ax2, ax3) = plt.subplots(1, 3, figsize = (20,20))\n",
    "\n",
    "ax1.imshow(b08, cmap='coolwarm', vmin=0., vmax=0.4)\n",
    "ax1.set_title(\"B08 NIR\")\n",
    "\n",
    "ax1.set_xticks([])\n",
    "ax1.set_yticks([])\n",
    "\n",
    "ax2.imshow(bg_ndwi, cmap=\"seismic\", vmin=0.1, vmax=0.75)\n",
    "ax2.set_title(\"BG_NDWI\")\n",
    "    \n",
    "ax2.set_xticks([])\n",
    "ax2.set_yticks([])\n",
    "\n",
    "ax3.imshow(heatmap, cmap='Reds', vmin=0., vmax=1.0)\n",
    "ax3.set_title('Heat map')\n",
    "\n",
    "ax3.set_xticks([])\n",
    "ax3.set_yticks([])\n",
    "\n"
   ]
  }
 ],
 "metadata": {
  "kernelspec": {
   "display_name": "EDC-GPU 0.19.6 (Python3)",
   "language": "python",
   "name": "edc-gpu"
  },
  "language_info": {
   "codemirror_mode": {
    "name": "ipython",
    "version": 3
   },
   "file_extension": ".py",
   "mimetype": "text/x-python",
   "name": "python",
   "nbconvert_exporter": "python",
   "pygments_lexer": "ipython3",
   "version": "3.7.6"
  }
 },
 "nbformat": 4,
 "nbformat_minor": 4
}
