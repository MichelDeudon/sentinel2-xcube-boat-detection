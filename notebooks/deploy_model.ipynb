{
 "cells": [
  {
   "cell_type": "code",
   "execution_count": 2,
   "metadata": {},
   "outputs": [],
   "source": [
    "%reload_ext autoreload\n",
    "%autoreload 2\n",
    "%load_ext dotenv\n",
    "%dotenv\n",
    "%matplotlib inline"
   ]
  },
  {
   "cell_type": "code",
   "execution_count": 3,
   "metadata": {},
   "outputs": [],
   "source": [
    "import os\n",
    "import sys\n",
    "import json\n",
    "from datetime import datetime, timedelta"
   ]
  },
  {
   "cell_type": "code",
   "execution_count": 1,
   "metadata": {
    "tags": [
     "parameters"
    ]
   },
   "outputs": [],
   "source": [
    "end_date = str(datetime.now().date())\n",
    "start_date = str(datetime.now().date() - timedelta(days = 30))\n",
    "aoi_file_path = 'zhichao/sentinel2-xcube-boat-detection/data/aoi.json'\n",
    "interest = \"Test\"\n",
    "data_dir=\"zhichao/sentinel2-xcube-boat-detection/data\"\n",
    "checkpoint_dir=\"zhichao/sentinel2-xcube-boat-detection/factory\"\n",
    "version=\"0.1.1\"\n",
    "time_period='1D'\n",
    "max_cloud_proba=0.3 \n",
    "override=True\n",
    "bg_ndwi_dir = \"data/bg_ndwi_2020-07-12\""
   ]
  },
  {
   "cell_type": "code",
   "execution_count": 4,
   "metadata": {},
   "outputs": [
    {
     "name": "stdout",
     "output_type": "stream",
     "text": [
      "2020-07-11\n",
      "2020-07-01\n"
     ]
    }
   ],
   "source": [
    "print(str(end_date))\n",
    "print(str(start_date))"
   ]
  },
  {
   "cell_type": "code",
   "execution_count": 5,
   "metadata": {},
   "outputs": [],
   "source": [
    "sys.path.insert(0,os.path.dirname('zhichao/sentinel2-xcube-boat-detection/src/'))"
   ]
  },
  {
   "cell_type": "code",
   "execution_count": 6,
   "metadata": {},
   "outputs": [],
   "source": [
    "with open(aoi_file_path, 'r') as f:\n",
    "    aoi_file = json.load(f)"
   ]
  },
  {
   "cell_type": "code",
   "execution_count": null,
   "metadata": {},
   "outputs": [],
   "source": [
    "from serve import scan_AOI, analyze_boat_traffic"
   ]
  },
  {
   "cell_type": "code",
   "execution_count": null,
   "metadata": {},
   "outputs": [],
   "source": [
    "scan_AOI(interest=interest,\n",
    "                        time_windows=[\n",
    "                                      [start_date, end_date]\n",
    "                                     ], \n",
    "                        data_dir=data_dir, checkpoint_dir=checkpoint_dir, version=version,\n",
    "                        time_period=time_period, max_cloud_proba=max_cloud_proba, override=override, bg_ndwi_dir=bg_ndwi_dir)"
   ]
  },
  {
   "cell_type": "code",
   "execution_count": null,
   "metadata": {},
   "outputs": [],
   "source": [
    "# import matplotlib.pyplot as plt\n",
    "# import numpy as np\n",
    "# test_hm = np.reshape(heatmaps[0][-2], -1)\n",
    "# test_hm[test_hm == 0] = np.nan\n",
    "\n",
    "# plt.hist(test_hm, bins=np.arange(0, 1, 0.01))\n",
    "# # np.count_nonzero(heatmaps[0][-1])"
   ]
  },
  {
   "cell_type": "code",
   "execution_count": null,
   "metadata": {},
   "outputs": [],
   "source": [
    "# from skimage.io import imsave\n",
    "# imsave(\"../data/testimage.png\", heatmaps[0][-2])"
   ]
  },
  {
   "cell_type": "code",
   "execution_count": null,
   "metadata": {},
   "outputs": [],
   "source": [
    "# analyze_boat_traffic(boat_traffic, kernel_size=1, week_day=None, aggregate_by_month=True, # optionally filter by week day and aggregate results by months\n",
    "#                      deltas=[ [['2018-12-22','2019-03-21'], ['2019-12-22','2020-03-21']], [['2019-03-22','2019-06-21'], ['2020-03-22','2020-06-21']]],\n",
    "#                     )"
   ]
  },
  {
   "cell_type": "code",
   "execution_count": null,
   "metadata": {},
   "outputs": [],
   "source": [
    "##### TODO: Filter cube dates with previous results and save what is new.\n",
    "##### TODO: Save heatmaps/density maps (T,1,H,W) and cloud coverage\n",
    "##### TODO: Edit data/aoi.json radius\n",
    "##### TODO: Automate analysis for AOI + time window"
   ]
  },
  {
   "cell_type": "code",
   "execution_count": null,
   "metadata": {},
   "outputs": [],
   "source": [
    "# end_date = str(datetime.now().date())\n",
    "# str(datetime.now().date() - timedelta(days = 90))"
   ]
  },
  {
   "cell_type": "code",
   "execution_count": null,
   "metadata": {},
   "outputs": [],
   "source": [
    "# from skimage.io import imread\n",
    "# imread(\"/home/jovyan/data/bg_ndwi_2020-07-12/lat_37_86_lon_23_61/bg_ndwi.png\")"
   ]
  },
  {
   "cell_type": "code",
   "execution_count": null,
   "metadata": {},
   "outputs": [],
   "source": []
  }
 ],
 "metadata": {
  "kernelspec": {
   "display_name": "Python 3",
   "language": "python",
   "name": "python3"
  },
  "language_info": {
   "codemirror_mode": {
    "name": "ipython",
    "version": 3
   },
   "file_extension": ".py",
   "mimetype": "text/x-python",
   "name": "python",
   "nbconvert_exporter": "python",
   "pygments_lexer": "ipython3",
   "version": "3.7.6"
  }
 },
 "nbformat": 4,
 "nbformat_minor": 4
}
