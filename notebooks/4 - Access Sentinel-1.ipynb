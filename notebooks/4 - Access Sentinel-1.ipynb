{
 "cells": [
  {
   "cell_type": "code",
   "execution_count": null,
   "metadata": {},
   "outputs": [],
   "source": [
    "%reload_ext autoreload\n",
    "%autoreload 2\n",
    "%load_ext dotenv\n",
    "%dotenv\n",
    "%matplotlib inline"
   ]
  },
  {
   "cell_type": "code",
   "execution_count": null,
   "metadata": {},
   "outputs": [],
   "source": [
    "from xcube_sh.config import CubeConfig\n",
    "from xcube_sh.cube import open_cube\n",
    "from xcube_sh.sentinelhub import SentinelHub\n",
    "import xarray as xr\n",
    "import numpy as np\n",
    "import os\n",
    "import sys\n",
    "import json\n",
    "import shapely.geometry\n",
    "import IPython.display\n",
    "import matplotlib.pyplot as plt"
   ]
  },
  {
   "cell_type": "code",
   "execution_count": null,
   "metadata": {},
   "outputs": [],
   "source": [
    "sys.path.insert(0,os.path.dirname('../src/'))\n",
    "from GIS_utils import bbox_from_point\n",
    "from preprocess import generate_bg_from_s1, remove_s1_empty_nans, generate_landwater_mask"
   ]
  },
  {
   "cell_type": "code",
   "execution_count": null,
   "metadata": {},
   "outputs": [],
   "source": [
    "SH = SentinelHub()\n",
    "print(SH.dataset_names)"
   ]
  },
  {
   "cell_type": "code",
   "execution_count": null,
   "metadata": {},
   "outputs": [],
   "source": [
    "SH.band_names('S1GRD')"
   ]
  },
  {
   "cell_type": "code",
   "execution_count": null,
   "metadata": {},
   "outputs": [],
   "source": [
    "data_dir = \"/home/jovyan/data\" # data directory (path)\n",
    "RADIUS = 500 # AOI radius in meters\n",
    "\n",
    "spatial_res = 0.00018\n",
    "start_date = '2019-01-01'\n",
    "end_date = '2019-06-01'\n",
    "\n",
    "with open(os.path.join(data_dir, 'aoi.json'), 'r') as f:\n",
    "    aoi_file = json.load(f)\n",
    "    coord = aoi_file['Final']['Venice'][0]\n",
    "    lat, lon = coord[0], coord[1]\n",
    "    print('{}, {}'.format(lat, lon))"
   ]
  },
  {
   "cell_type": "code",
   "execution_count": null,
   "metadata": {},
   "outputs": [],
   "source": [
    "# location purely on water\n",
    "# lon = 28.994\n",
    "# lat = 41.021\n",
    "bbox = bbox_from_point(lat=lat, lon=lon, r=RADIUS) # WGS84 coordinates"
   ]
  },
  {
   "cell_type": "code",
   "execution_count": null,
   "metadata": {},
   "outputs": [],
   "source": [
    "bbox = bbox_from_point(lat=lat, lon=lon, r=RADIUS) # WGS84 coordinates\n",
    "IPython.display.GeoJSON(shapely.geometry.box(*bbox).__geo_interface__)"
   ]
  },
  {
   "cell_type": "code",
   "execution_count": null,
   "metadata": {},
   "outputs": [],
   "source": [
    "cube_config = CubeConfig(dataset_name='S1GRD',\n",
    "                         band_names= [\"HH\", \"HV\", \"VH\", \"VV\", \"HH+HV\", \"VV+VH\"], ## HH,'HV' , 'HH+HV' gives NaN/Zero Exception HH+HV, VV+VH, HH, VV\n",
    "                         crs = \"http://www.opengis.net/def/crs/EPSG/0/4326\",\n",
    "                         spatial_res = 0.00018,\n",
    "                         geometry=bbox,\n",
    "                         time_range=[start_date, end_date],\n",
    "                         time_period='1D')"
   ]
  },
  {
   "cell_type": "code",
   "execution_count": null,
   "metadata": {},
   "outputs": [],
   "source": [
    "cube = open_cube(cube_config)\n",
    "cube"
   ]
  },
  {
   "cell_type": "code",
   "execution_count": null,
   "metadata": {},
   "outputs": [],
   "source": [
    "cube = remove_s1_empty_nans(cube)\n",
    "cube"
   ]
  },
  {
   "cell_type": "code",
   "execution_count": null,
   "metadata": {},
   "outputs": [],
   "source": [
    "plt.figure(figsize=(15, 15))\n",
    "plt.subplot(2, 2, 1)\n",
    "plt.hist(np.squeeze(cube.VH.values.reshape(1, -1)), bins=np.arange(0, 1, 0.01))\n",
    "plt.title(\"VH\")\n",
    "plt.xticks(np.arange(0, 1, 0.1))\n",
    "plt.subplot(2, 2, 2)\n",
    "plt.hist(np.squeeze(cube.VV.values.reshape(1, -1)), bins=np.arange(0, 1, 0.01))\n",
    "plt.title(\"VV\")\n",
    "plt.xticks(np.arange(0, 1, 0.1))\n"
   ]
  },
  {
   "cell_type": "code",
   "execution_count": null,
   "metadata": {},
   "outputs": [],
   "source": [
    "cube.VV.plot.imshow(col='time', col_wrap=4, vmax=0.15) # 0.15 for VV"
   ]
  },
  {
   "cell_type": "code",
   "execution_count": null,
   "metadata": {},
   "outputs": [],
   "source": [
    "cube.VH.plot.imshow(col='time', col_wrap=4, vmax=0.08) # 0.08 for VH"
   ]
  },
  {
   "cell_type": "code",
   "execution_count": null,
   "metadata": {},
   "outputs": [],
   "source": [
    "bg_VV = generate_bg_from_s1(cube,bg_band=\"VV\", fused_by=\"min\")\n",
    "bg_VH = generate_bg_from_s1(cube,bg_band=\"VH\", fused_by=\"min\")"
   ]
  },
  {
   "cell_type": "code",
   "execution_count": null,
   "metadata": {},
   "outputs": [],
   "source": [
    "print(bg_VV.quantile(q=np.arange(0.6, 0.7, 0.01)).values)\n",
    "print(bg_VH.quantile(q=np.arange(0.6, 0.7, 0.01)).values)"
   ]
  },
  {
   "cell_type": "code",
   "execution_count": null,
   "metadata": {},
   "outputs": [],
   "source": [
    "bg_VH, binary_bg_VV, binary_bg = generate_landwater_mask(cube, threshold_quantile=0.625)"
   ]
  },
  {
   "cell_type": "code",
   "execution_count": null,
   "metadata": {},
   "outputs": [],
   "source": [
    "(cube.VH * binary_bg).plot.imshow(col='time', col_wrap=4, vmax=0.08)"
   ]
  },
  {
   "cell_type": "markdown",
   "metadata": {},
   "source": [
    "### Generate BG from S2"
   ]
  },
  {
   "cell_type": "code",
   "execution_count": null,
   "metadata": {},
   "outputs": [],
   "source": [
    "subdir = 'lat_{}_lon_{}'.format(str(lat).replace('.','_'), str(lon).replace('.','_'))\n",
    "S2_bg_ndwi = os.path.join(\"/home/jovyan/data/chips\", subdir, \"bg_ndwi.png\")\n",
    "\n",
    "import skimage.io\n",
    "bg_ndwi = skimage.io.imread(S2_bg_ndwi)\n",
    "plt.imshow(bg_ndwi)                  "
   ]
  },
  {
   "cell_type": "code",
   "execution_count": null,
   "metadata": {},
   "outputs": [],
   "source": [
    "len(cube.lat), len(cube.lon)"
   ]
  },
  {
   "cell_type": "code",
   "execution_count": null,
   "metadata": {},
   "outputs": [],
   "source": [
    "from skimage.transform import rescale, resize\n",
    "bg_ndwi_resize = resize(bg_ndwi, (len(cube.lat), len(cube.lon)), anti_aliasing=True)\n",
    "print(bg_ndwi_resize.shape)\n",
    "plt.imshow(bg_ndwi_resize)"
   ]
  },
  {
   "cell_type": "code",
   "execution_count": null,
   "metadata": {},
   "outputs": [],
   "source": [
    "plt.hist(bg_ndwi_resize.reshape(1, -1).squeeze(0))\n",
    "# np.quantile(bg_ndwi_resize, q=0.5)\n",
    "threshold_s2 = (bg_ndwi_resize.min() + bg_ndwi_resize.max()) / 3\n",
    "binary_bg_ndwi = (bg_ndwi_resize < threshold_s2).astype(int)"
   ]
  },
  {
   "cell_type": "code",
   "execution_count": null,
   "metadata": {},
   "outputs": [],
   "source": [
    "plt.imshow(binary_bg_ndwi)"
   ]
  },
  {
   "cell_type": "code",
   "execution_count": null,
   "metadata": {},
   "outputs": [],
   "source": [
    "binary_bg_ndwi = xr.DataArray(binary_bg_ndwi, dims=('lat', 'lon'))\n",
    "stacked_bg_ndwi = xr.concat([binary_bg_ndwi for i in range(len(cube.time))], dim='time')"
   ]
  },
  {
   "cell_type": "code",
   "execution_count": null,
   "metadata": {},
   "outputs": [],
   "source": [
    "(stacked_bg_ndwi * cube.VH).plot.imshow(col='time', col_wrap=4, vmax=0.08)"
   ]
  },
  {
   "cell_type": "markdown",
   "metadata": {},
   "source": [
    "### Method here https://github.com/sentinel-hub/custom-scripts/tree/master/sentinel-1/water_surface_roughness_visualization"
   ]
  },
  {
   "cell_type": "code",
   "execution_count": null,
   "metadata": {},
   "outputs": [],
   "source": [
    "cube[\"WR\"] = - np.log(0.05 / (0.018+cube.VV * 1.5)) # turn to minus compare to the original script\n",
    "cube[\"WR\"].plot.imshow(col='time', col_wrap=4, cmap='Greys')"
   ]
  },
  {
   "cell_type": "code",
   "execution_count": null,
   "metadata": {},
   "outputs": [],
   "source": [
    "water_roughness_cube_bg, bg_water_roughness = preprocess_sentinel_1(cube, band = \"WR\", fused_by = \"min\")\n",
    "bg_water_roughness.plot.imshow(cmap='Greys')"
   ]
  },
  {
   "cell_type": "code",
   "execution_count": null,
   "metadata": {},
   "outputs": [],
   "source": [
    "water_roughness_cube_bg.plot.imshow(col='time', col_wrap=4, cmap='Greys')"
   ]
  },
  {
   "cell_type": "code",
   "execution_count": null,
   "metadata": {},
   "outputs": [],
   "source": [
    "def overlay(top, bottom):    \n",
    "    res = ((1 - 2 * top) * bottom + 2 * top) * bottom\n",
    "    return res\n",
    "\n",
    "\n",
    "def stretch(arr, min_, max_):\n",
    "    delta = max_ - min_\n",
    "    offset = - min_ / delta\n",
    "    return arr/delta + offset\n",
    "\n",
    "def gamma(arr, val):\n",
    "    return arr ** (1.0 / val)\n",
    "\n",
    "mvh = np.sqrt(cube.VH + 0.002)\n",
    "mvv = np.sqrt(cube.VV + 0.002)\n",
    "ov = overlay(mvv, mvh)\n",
    "red = gamma(stretch(mvh, 0.02, 0.1), 1.1)\n",
    "green = gamma(stretch(ov, 0.0, 0.06), 1.1)\n",
    "blue = gamma(stretch(mvv, 0.0, 0.32), 1.1)\n"
   ]
  },
  {
   "cell_type": "code",
   "execution_count": null,
   "metadata": {},
   "outputs": [],
   "source": [
    "cube['R'] = red\n",
    "cube['G'] = green\n",
    "cube['B'] = blue\n"
   ]
  },
  {
   "cell_type": "code",
   "execution_count": null,
   "metadata": {},
   "outputs": [],
   "source": [
    "cube_bands = cube.expand_dims(\"band\")\n",
    "cube_rgb = xarray.concat([cube_bands.R, cube_bands.G, cube_bands.B], dim=\"band\")\n"
   ]
  },
  {
   "cell_type": "code",
   "execution_count": null,
   "metadata": {},
   "outputs": [],
   "source": [
    "cube_rgb.plot.imshow(col='time', col_wrap=4, vmin=0, vmax=1, cmap='RdYlBu')"
   ]
  },
  {
   "cell_type": "code",
   "execution_count": null,
   "metadata": {},
   "outputs": [],
   "source": [
    "cube_bands"
   ]
  },
  {
   "cell_type": "code",
   "execution_count": null,
   "metadata": {},
   "outputs": [],
   "source": []
  }
 ],
 "metadata": {
  "kernelspec": {
   "display_name": "Python 3",
   "language": "python",
   "name": "python3"
  },
  "language_info": {
   "codemirror_mode": {
    "name": "ipython",
    "version": 3
   },
   "file_extension": ".py",
   "mimetype": "text/x-python",
   "name": "python",
   "nbconvert_exporter": "python",
   "pygments_lexer": "ipython3",
   "version": "3.7.6"
  }
 },
 "nbformat": 4,
 "nbformat_minor": 4
}
