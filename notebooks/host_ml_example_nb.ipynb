{
 "cells": [
  {
   "cell_type": "code",
   "execution_count": null,
   "metadata": {
    "tags": [
     "parameters"
    ]
   },
   "outputs": [],
   "source": [
    "#define the default parameter\n",
    "days = 14\n",
    "geometry=(10.00, 54.27, 10.30, 54.50)"
   ]
  },
  {
   "cell_type": "code",
   "execution_count": null,
   "metadata": {},
   "outputs": [],
   "source": [
    "from edc import setup_environment_variables\n",
    "setup_environment_variables()"
   ]
  },
  {
   "cell_type": "code",
   "execution_count": null,
   "metadata": {},
   "outputs": [],
   "source": [
    "%matplotlib inline\n",
    "from datetime import timedelta, date\n",
    "from xcube_sh.cube import open_cube\n",
    "from xcube_sh.config import CubeConfig"
   ]
  },
  {
   "cell_type": "code",
   "execution_count": null,
   "metadata": {},
   "outputs": [],
   "source": [
    "time_range = [(date.today() - timedelta(days=days)).strftime(\"%Y-%m-%d\"), date.today().strftime(\"%Y-%m-%d\")]\n",
    "geometry = eval(geometry) if type(geometry) == str else geometry"
   ]
  },
  {
   "cell_type": "code",
   "execution_count": null,
   "metadata": {},
   "outputs": [],
   "source": [
    "print(f\"calculating NDVI for {time_range} on {geometry}\")"
   ]
  },
  {
   "cell_type": "code",
   "execution_count": null,
   "metadata": {},
   "outputs": [],
   "source": [
    "cube = open_cube(cube_config=CubeConfig(\n",
    "    dataset_name=\"S2L2A\",\n",
    "    band_names=[\"B04\", \"B08\"],\n",
    "    tile_size=[512, 512],\n",
    "    geometry=geometry,\n",
    "    spatial_res=0.00018,  # = 10.038 meters in degree\n",
    "    time_range= time_range    \n",
    "))\n",
    "ndvi = (cube.B08 - cube.B04) / (cube.B04 + cube.B08)\n",
    "ndvi"
   ]
  },
  {
   "cell_type": "code",
   "execution_count": null,
   "metadata": {},
   "outputs": [],
   "source": [
    "ndvi.plot.imshow(col='time', col_wrap=3, vmin=-1, vmax=1, cmap='RdYlGn')"
   ]
  }
 ],
 "metadata": {
  "kernelspec": {
   "display_name": "Python 3",
   "language": "python",
   "name": "python3"
  },
  "language_info": {
   "codemirror_mode": {
    "name": "ipython",
    "version": 3
   },
   "file_extension": ".py",
   "mimetype": "text/x-python",
   "name": "python",
   "nbconvert_exporter": "python",
   "pygments_lexer": "ipython3",
   "version": "3.7.6"
  }
 },
 "nbformat": 4,
 "nbformat_minor": 4
}
