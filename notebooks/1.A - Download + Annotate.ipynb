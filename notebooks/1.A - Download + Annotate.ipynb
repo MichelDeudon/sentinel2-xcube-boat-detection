{
 "cells": [
  {
   "cell_type": "markdown",
   "metadata": {},
   "source": [
    "# Counting Boats from Space (Part 1): Annotate Chips with Boat Counts"
   ]
  },
  {
   "cell_type": "code",
   "execution_count": null,
   "metadata": {},
   "outputs": [],
   "source": [
    "%reload_ext autoreload\n",
    "%autoreload 2\n",
    "%load_ext dotenv\n",
    "%dotenv\n",
    "%matplotlib inline"
   ]
  },
  {
   "cell_type": "markdown",
   "metadata": {},
   "source": [
    "## 1. Import requirements"
   ]
  },
  {
   "cell_type": "code",
   "execution_count": null,
   "metadata": {},
   "outputs": [],
   "source": [
    "import os \n",
    "import sys\n",
    "import json\n",
    "import shapely.geometry\n",
    "import IPython.display\n",
    "from xcube_sh.cube import open_cube\n",
    "from xcube_sh.observers import Observers"
   ]
  },
  {
   "cell_type": "code",
   "execution_count": null,
   "metadata": {},
   "outputs": [],
   "source": [
    "sys.path.insert(0,os.path.dirname('../src/'))"
   ]
  },
  {
   "cell_type": "code",
   "execution_count": null,
   "metadata": {},
   "outputs": [],
   "source": [
    "from GIS_utils import bbox_from_point\n",
    "from config import CubeConfig\n",
    "from preprocess import preprocess, plot_cube_and_background, save_labels"
   ]
  },
  {
   "cell_type": "code",
   "execution_count": null,
   "metadata": {},
   "outputs": [],
   "source": [
    "data_dir = \"/home/jovyan/data\" # data directory (path to save chips)\n",
    "#RADIUS = 500 # AOI radius in meters"
   ]
  },
  {
   "cell_type": "markdown",
   "metadata": {},
   "source": [
    "## 2. Specify AOI + time window"
   ]
  },
  {
   "cell_type": "code",
   "execution_count": null,
   "metadata": {},
   "outputs": [],
   "source": [
    "with open('../data/aoi.json', 'r') as f:\n",
    "    aoi_file = json.load(f)\n",
    "    coords = aoi_file['Final'] ### Choose AOI set (Straits, Tourism, etc.)\n",
    "    aoi_idx = 0  ### Choose location index\n",
    "    aoi_name = list(coords.keys())[aoi_idx]\n",
    "    lat, lon, RADIUS = coords[aoi_name][0][0], coords[aoi_name][0][1], coords[aoi_name][0][2]\n",
    "    #lat, lon, RADIUS = 8.87, -79.535, 3000 change lat, lon, RADIUS\n",
    "    print('{}/{} {}: {}, {}, {}'.format(aoi_idx+1, len(coords), aoi_name, lat, lon, RADIUS))"
   ]
  },
  {
   "cell_type": "code",
   "execution_count": null,
   "metadata": {},
   "outputs": [],
   "source": [
    "start_date = '2020-03-22'\n",
    "end_date = '2020-06-21'"
   ]
  },
  {
   "cell_type": "code",
   "execution_count": null,
   "metadata": {},
   "outputs": [],
   "source": [
    "bbox = bbox_from_point(lat=lat, lon=lon, r=RADIUS) # WGS84 coordinates\n",
    "IPython.display.GeoJSON(shapely.geometry.box(*bbox).__geo_interface__)"
   ]
  },
  {
   "cell_type": "markdown",
   "metadata": {},
   "source": [
    "## 3. Load the data in a cube"
   ]
  },
  {
   "cell_type": "code",
   "execution_count": null,
   "metadata": {},
   "outputs": [],
   "source": [
    "cube_config = CubeConfig(dataset_name='S2L1C', band_names=['B03', 'B08', 'CLP'], # GREEN + NIR + Clouds\n",
    "                         tile_size=[2*RADIUS//10, 2*RADIUS//10], geometry=bbox,\n",
    "                         time_range=[start_date, end_date], time_period='1D')"
   ]
  },
  {
   "cell_type": "code",
   "execution_count": null,
   "metadata": {},
   "outputs": [],
   "source": [
    "request_collector = Observers.request_collector()\n",
    "#request_collector.stats # statistics for SentinelHub request"
   ]
  },
  {
   "cell_type": "code",
   "execution_count": null,
   "metadata": {},
   "outputs": [],
   "source": [
    "cube = open_cube(cube_config, observer=request_collector)\n",
    "#cube # Verify the content of the cube"
   ]
  },
  {
   "cell_type": "markdown",
   "metadata": {},
   "source": [
    "## 4. Preprocess Cube"
   ]
  },
  {
   "cell_type": "code",
   "execution_count": null,
   "metadata": {},
   "outputs": [],
   "source": [
    "cube, background_ndwi = preprocess(cube, max_cloud_proba=0.3, nans_how='any', verbose=1, plot_NDWI=True)\n",
    "#cube"
   ]
  },
  {
   "cell_type": "code",
   "execution_count": null,
   "metadata": {},
   "outputs": [],
   "source": [
    "plot_cube_and_background(cube, background_ndwi, t=-1) # display results for each band"
   ]
  },
  {
   "cell_type": "markdown",
   "metadata": {},
   "source": [
    "## 5. Annotate imagery + save results (B03, B08, CLP, bg_NDWI)"
   ]
  },
  {
   "cell_type": "code",
   "execution_count": null,
   "metadata": {},
   "outputs": [],
   "source": [
    "label = input().split(',') # comma value separated\n",
    "label = [int(l) for l in label]\n",
    "assert len(label) == len(cube.time)\n",
    "save_labels(cube, background_ndwi, label, lat_lon=(lat,lon), data_dir=os.path.join(data_dir, 'chips'), label_filename='../data/labels.csv')"
   ]
  },
  {
   "cell_type": "code",
   "execution_count": null,
   "metadata": {},
   "outputs": [],
   "source": []
  }
 ],
 "metadata": {
  "kernelspec": {
   "display_name": "Python 3",
   "language": "python",
   "name": "python3"
  },
  "language_info": {
   "codemirror_mode": {
    "name": "ipython",
    "version": 3
   },
   "file_extension": ".py",
   "mimetype": "text/x-python",
   "name": "python",
   "nbconvert_exporter": "python",
   "pygments_lexer": "ipython3",
   "version": "3.7.6"
  }
 },
 "nbformat": 4,
 "nbformat_minor": 4
}
