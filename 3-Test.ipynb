{
 "cells": [
  {
   "cell_type": "markdown",
   "metadata": {},
   "source": [
    "# Counting Boats from Space - Part 3"
   ]
  },
  {
   "cell_type": "code",
   "execution_count": null,
   "metadata": {},
   "outputs": [],
   "source": [
    "%reload_ext autoreload\n",
    "%autoreload 2\n",
    "%load_ext dotenv\n",
    "%dotenv\n",
    "%matplotlib inline"
   ]
  },
  {
   "cell_type": "markdown",
   "metadata": {},
   "source": [
    "## 1. Install + import requirements / dependencies"
   ]
  },
  {
   "cell_type": "code",
   "execution_count": null,
   "metadata": {},
   "outputs": [],
   "source": [
    "import sys\n",
    "!{sys.executable} -m pip install torch\n",
    "!{sys.executable} -m pip install torchvision\n",
    "!{sys.executable} -m pip install plotly"
   ]
  },
  {
   "cell_type": "code",
   "execution_count": null,
   "metadata": {},
   "outputs": [],
   "source": [
    "# xcube_sh imports\n",
    "from xcube_sh.cube import open_cube\n",
    "from xcube_sh.observers import Observers\n",
    "\n",
    "# Various utilities\n",
    "import os\n",
    "import shapely.geometry\n",
    "import IPython.display\n",
    "import numpy as np\n",
    "import json\n",
    "import torch"
   ]
  },
  {
   "cell_type": "code",
   "execution_count": null,
   "metadata": {},
   "outputs": [],
   "source": [
    "from src.dataset import plot_geoloc\n",
    "from src.GIS_utils import bbox_from_point\n",
    "from src.config import CubeConfig\n",
    "from src.preprocess import cube2tensor\n",
    "from src.model import Model"
   ]
  },
  {
   "cell_type": "code",
   "execution_count": null,
   "metadata": {},
   "outputs": [],
   "source": [
    "torch.cuda.is_available() # gpu support"
   ]
  },
  {
   "cell_type": "code",
   "execution_count": null,
   "metadata": {},
   "outputs": [],
   "source": [
    "# constants\n",
    "RADIUS = 2500 # AOI radius in meters\n",
    "NDWI_threshold = 0.4 # NDWI threshold for water/land segmentation"
   ]
  },
  {
   "cell_type": "markdown",
   "metadata": {},
   "source": [
    "## 2. Specify AOI + time window"
   ]
  },
  {
   "cell_type": "code",
   "execution_count": null,
   "metadata": {},
   "outputs": [],
   "source": [
    "data_dir = \"/home/jovyan/data\" # data directory (path)\n",
    "checkpoint_dir = \"/home/jovyan/checkpoints\""
   ]
  },
  {
   "cell_type": "code",
   "execution_count": null,
   "metadata": {},
   "outputs": [],
   "source": [
    "##### TODO: Add new locations to aoi.json"
   ]
  },
  {
   "cell_type": "code",
   "execution_count": null,
   "metadata": {},
   "outputs": [],
   "source": [
    "with open(os.path.join(data_dir, 'aoi.json'), 'r') as f:\n",
    "    aoi_file = json.load(f)"
   ]
  },
  {
   "cell_type": "code",
   "execution_count": null,
   "metadata": {},
   "outputs": [],
   "source": [
    "plot_geoloc(list(aoi_file['Ports'].values()), [lat_lon for snaps in list(aoi_file['Straits'].values()) for lat_lon in snaps])"
   ]
  },
  {
   "cell_type": "code",
   "execution_count": null,
   "metadata": {},
   "outputs": [],
   "source": [
    "#coords = aoi_file['Ports']['IT - Messina']\n",
    "coords = aoi_file['Straits']['Dardanelles'][0]\n",
    "lat, lon = coords[0], coords[1]"
   ]
  },
  {
   "cell_type": "code",
   "execution_count": null,
   "metadata": {},
   "outputs": [],
   "source": [
    "start_date = '2020-01-01'\n",
    "end_date = '2020-05-31'"
   ]
  },
  {
   "cell_type": "code",
   "execution_count": null,
   "metadata": {},
   "outputs": [],
   "source": [
    "bbox = bbox_from_point(lat=lat, lon=lon, r=RADIUS) # WGS84 coordinates"
   ]
  },
  {
   "cell_type": "code",
   "execution_count": null,
   "metadata": {},
   "outputs": [],
   "source": [
    "IPython.display.GeoJSON(shapely.geometry.box(*bbox).__geo_interface__)"
   ]
  },
  {
   "cell_type": "markdown",
   "metadata": {},
   "source": [
    "## 3. Configure + Load + Preprocess Data Cube"
   ]
  },
  {
   "cell_type": "code",
   "execution_count": null,
   "metadata": {},
   "outputs": [],
   "source": [
    "cube_config = CubeConfig(dataset_name='S2L1C',\n",
    "                         band_names=['B03', 'B08', 'CLP'], # GREEN + NIR + CLP bands\n",
    "                         tile_size=[2*RADIUS//10, 2*RADIUS//10],\n",
    "                         geometry=bbox,\n",
    "                         time_range=[start_date, end_date],\n",
    "                         time_period='5D', ##### Set to 1D\n",
    "                        )"
   ]
  },
  {
   "cell_type": "code",
   "execution_count": null,
   "metadata": {},
   "outputs": [],
   "source": [
    "cube = open_cube(cube_config)\n",
    "#cube # Verify the content of the cube"
   ]
  },
  {
   "cell_type": "code",
   "execution_count": null,
   "metadata": {},
   "outputs": [],
   "source": [
    "# Drop Nans & Keep cloudless imagery, Convert to tensor (NIR + BG_NDWI) and metadata.\n",
    "x, timestamps = cube2tensor(cube, max_cloud_proba=0.2, nans_how='any', verbose=1, plot_NDWI=False)"
   ]
  },
  {
   "cell_type": "code",
   "execution_count": null,
   "metadata": {},
   "outputs": [],
   "source": [
    "#cube"
   ]
  },
  {
   "cell_type": "markdown",
   "metadata": {},
   "source": [
    "## 4. Test Model"
   ]
  },
  {
   "cell_type": "code",
   "execution_count": null,
   "metadata": {},
   "outputs": [],
   "source": [
    "# load pretrained model\n",
    "model = Model(input_dim=2, hidden_dim=16, kernel_size=3, device='cpu', version='v0.0.1')\n",
    "checkpoint_file = os.path.join(checkpoint_dir, model.folder, 'model.pth')\n",
    "model.load_checkpoint(checkpoint_file=checkpoint_file)\n",
    "model = model.eval()"
   ]
  },
  {
   "cell_type": "code",
   "execution_count": null,
   "metadata": {},
   "outputs": [],
   "source": [
    "# Chunk image, detect boats and aggregate counts!\n",
    "heatmaps, counts = model.chip_and_count(x, water_ndwi=0.5, plot_heatmap=True, timestamps=timestamps, max_frames=8, plot_indicator=True)"
   ]
  },
  {
   "cell_type": "code",
   "execution_count": null,
   "metadata": {},
   "outputs": [],
   "source": []
  },
  {
   "cell_type": "code",
   "execution_count": null,
   "metadata": {},
   "outputs": [],
   "source": [
    "##### Save AOI, timestamps, counts to geodB\n",
    "\n",
    "meta_data = 'lat={}/lon={}/r={}'.format(lat, lon, RADIUS)\n",
    "output = {}\n",
    "for timestamp, count in zip(timestamps, counts):\n",
    "    output[timestamp] = float(count)\n",
    "\n",
    "print(meta_data)\n",
    "for k,v in output.items():\n",
    "    print(k,v)"
   ]
  },
  {
   "cell_type": "code",
   "execution_count": null,
   "metadata": {},
   "outputs": [],
   "source": [
    "##### Automate analysis for AOI + time window"
   ]
  },
  {
   "cell_type": "code",
   "execution_count": null,
   "metadata": {},
   "outputs": [],
   "source": []
  }
 ],
 "metadata": {
  "kernelspec": {
   "display_name": "Python 3",
   "language": "python",
   "name": "python3"
  },
  "language_info": {
   "codemirror_mode": {
    "name": "ipython",
    "version": 3
   },
   "file_extension": ".py",
   "mimetype": "text/x-python",
   "name": "python",
   "nbconvert_exporter": "python",
   "pygments_lexer": "ipython3",
   "version": "3.7.6"
  }
 },
 "nbformat": 4,
 "nbformat_minor": 4
}
