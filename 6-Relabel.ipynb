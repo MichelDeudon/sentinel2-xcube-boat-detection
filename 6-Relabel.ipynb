{
 "cells": [
  {
   "cell_type": "code",
   "execution_count": null,
   "metadata": {},
   "outputs": [],
   "source": [
    "%reload_ext autoreload\n",
    "%autoreload 2\n",
    "%load_ext dotenv\n",
    "%dotenv\n",
    "%matplotlib inline\n",
    "\n",
    "import os \n",
    "import glob\n",
    "import json\n",
    "from pathlib import Path\n",
    "from src.annotation_utils import display_image_and_references\n",
    "import numpy as np\n",
    "import pandas as pd\n",
    "import superintendent"
   ]
  },
  {
   "cell_type": "markdown",
   "metadata": {},
   "source": [
    "### Load the labels.csv file "
   ]
  },
  {
   "cell_type": "code",
   "execution_count": null,
   "metadata": {},
   "outputs": [],
   "source": [
    "csv_file_path = \"/home/jovyan/data/labels.csv\"\n",
    "labels_df = pd.read_csv(csv_file_path, index_col = ['lat_lon', 'timestamp'], dtype={'count': float})\n",
    "len(labels_df)"
   ]
  },
  {
   "cell_type": "markdown",
   "metadata": {},
   "source": [
    "### Get list of images that should be relabeled"
   ]
  },
  {
   "cell_type": "code",
   "execution_count": null,
   "metadata": {},
   "outputs": [],
   "source": [
    "data_chips_dir = \"/home/jovyan/data/chips/\"\n",
    "\n",
    "tobe_labeled_images = []\n",
    "relabel_lat_lons = [[36.02, -5.36],[35.95, -5.61]] # list of locations we want to relabel\n",
    "\n",
    "for loc in relabel_lat_lons:\n",
    "    lat, lon = loc[0], loc[1]\n",
    "    subdir = 'lat_{}_lon_{}'.format(str(lat).replace('.','_'), str(lon).replace('.','_'))       \n",
    "    tobe_labeled_images.extend(Path(data_chips_dir, subdir).glob(\"img_ndwi*.png\"))\n",
    "print(f\"{len(tobe_labeled_images)} images to be relabeled\")    "
   ]
  },
  {
   "cell_type": "markdown",
   "metadata": {},
   "source": [
    "### Load superintendent widget and labelling"
   ]
  },
  {
   "cell_type": "code",
   "execution_count": null,
   "metadata": {},
   "outputs": [],
   "source": [
    "labeller = superintendent.ClassLabeller(\n",
    "    features=tobe_labeled_images,\n",
    "    options=[i for i in range(-1, 6)],\n",
    "    display_func=display_image_and_references,\n",
    ")\n",
    "\n",
    "labeller"
   ]
  },
  {
   "cell_type": "markdown",
   "metadata": {},
   "source": [
    "### Extract new labels and save them in labels_df"
   ]
  },
  {
   "cell_type": "code",
   "execution_count": null,
   "metadata": {},
   "outputs": [],
   "source": [
    "for i in range(len(tobe_labeled_images)):\n",
    "    timestamp = tobe_labeled_images[i].stem.split('t_')[1]\n",
    "    lat_lon = tobe_labeled_images[i].parts[-2]\n",
    "    count = labeller.new_labels[i]\n",
    "    # overwrite if the \n",
    "    if count:\n",
    "        labels_df.at[(lat_lon, timestamp)] = count"
   ]
  },
  {
   "cell_type": "markdown",
   "metadata": {},
   "source": [
    "### Dump back to csv file"
   ]
  },
  {
   "cell_type": "code",
   "execution_count": null,
   "metadata": {},
   "outputs": [],
   "source": [
    "labels_df.to_csv(csv_file_path)"
   ]
  }
 ],
 "metadata": {
  "kernelspec": {
   "display_name": "Python 3",
   "language": "python",
   "name": "python3"
  },
  "language_info": {
   "codemirror_mode": {
    "name": "ipython",
    "version": 3
   },
   "file_extension": ".py",
   "mimetype": "text/x-python",
   "name": "python",
   "nbconvert_exporter": "python",
   "pygments_lexer": "ipython3",
   "version": "3.7.6"
  }
 },
 "nbformat": 4,
 "nbformat_minor": 4
}
