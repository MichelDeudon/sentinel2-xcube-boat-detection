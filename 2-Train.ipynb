{
 "cells": [
  {
   "cell_type": "markdown",
   "metadata": {},
   "source": [
    "# Counting Boats from Space - Part 2"
   ]
  },
  {
   "cell_type": "code",
   "execution_count": null,
   "metadata": {},
   "outputs": [],
   "source": [
    "%reload_ext autoreload\n",
    "%autoreload 2\n",
    "%load_ext dotenv\n",
    "%dotenv\n",
    "%matplotlib inline"
   ]
  },
  {
   "cell_type": "markdown",
   "metadata": {},
   "source": [
    "## 1. Install, Import requirements"
   ]
  },
  {
   "cell_type": "code",
   "execution_count": null,
   "metadata": {},
   "outputs": [],
   "source": [
    "import sys\n",
    "!{sys.executable} -m pip install torch\n",
    "!{sys.executable} -m pip install torchvision\n",
    "!{sys.executable} -m pip install plotly"
   ]
  },
  {
   "cell_type": "code",
   "execution_count": null,
   "metadata": {},
   "outputs": [],
   "source": [
    "# Various utilities\n",
    "import os\n",
    "import json\n",
    "import math\n",
    "import numpy as np\n",
    "import matplotlib.pyplot as plt\n",
    "import skimage\n",
    "import torch\n",
    "from torch.utils.data import DataLoader"
   ]
  },
  {
   "cell_type": "code",
   "execution_count": null,
   "metadata": {},
   "outputs": [],
   "source": [
    "from src.dataset import getImageSetDirectories, S2_Dataset, plot_dataset\n",
    "from src.model import Model\n",
    "from src.train import train, get_failures_or_success"
   ]
  },
  {
   "cell_type": "code",
   "execution_count": null,
   "metadata": {},
   "outputs": [],
   "source": [
    "torch.cuda.is_available() # gpu support"
   ]
  },
  {
   "cell_type": "markdown",
   "metadata": {},
   "source": [
    "## 2. Init K-Fold Dataset"
   ]
  },
  {
   "cell_type": "code",
   "execution_count": null,
   "metadata": {},
   "outputs": [],
   "source": [
    "data_dir = \"/home/jovyan/data\" # data directory (path)\n",
    "checkpoint_dir = \"/home/jovyan/checkpoints\"\n",
    "bands = ['img_08', 'bg_ndwi']\n",
    "test_size = 0.2"
   ]
  },
  {
   "cell_type": "code",
   "execution_count": null,
   "metadata": {},
   "outputs": [],
   "source": [
    "train_list, val_list, fig = getImageSetDirectories(data_dir=os.path.join(data_dir, 'chips'), labels_filename=os.path.join(data_dir, 'labels.csv'),\n",
    "                                                   band_list=bands, test_size=test_size, plot_coords=False, plot_class_imbalance=True, use_KFold=True, seed=123)\n",
    "fig # mapbox plot train/val coordinates"
   ]
  },
  {
   "cell_type": "code",
   "execution_count": null,
   "metadata": {},
   "outputs": [],
   "source": [
    "train_dataset = S2_Dataset(imset_dir=train_list[0], augment=True, labels_filename=os.path.join(data_dir,'labels.csv'))\n",
    "val_dataset = S2_Dataset(imset_dir=val_list[0], augment=False, labels_filename=os.path.join(data_dir,'labels.csv'))\n",
    "plot_dataset(train_dataset, n_frames=14, n_rows=2, cmap='gray')"
   ]
  },
  {
   "cell_type": "markdown",
   "metadata": {},
   "source": [
    "## 4. Train PyTorch Classifier"
   ]
  },
  {
   "cell_type": "code",
   "execution_count": null,
   "metadata": {},
   "outputs": [],
   "source": [
    "# training config\n",
    "input_dim = train_dataset[0]['img'].shape[0]\n",
    "hidden_dim, kernel_size, pool_size, n_max = 16, 3, 10, 1"
   ]
  },
  {
   "cell_type": "code",
   "execution_count": null,
   "metadata": {},
   "outputs": [],
   "source": [
    "train_dataloader = DataLoader(train_dataset, batch_size=8, shuffle=True, num_workers=16)\n",
    "val_dataloader = DataLoader(val_dataset, batch_size=1, shuffle=True, num_workers=4)\n",
    "\n",
    "best_metrics = train(train_dataloader=train_dataloader, val_dataloader=val_dataloader,\n",
    "             input_dim=input_dim, hidden_dim=hidden_dim, kernel_size=kernel_size, pool_size=pool_size, n_max=n_max, drop_proba=0.15,\n",
    "             ld=0.2, water_ndwi=0.4,\n",
    "             n_epochs=50, lr=0.007, lr_step=2, lr_decay=0.95,\n",
    "             device='cpu', checkpoints_dir=checkpoint_dir, seed=42, verbose=1, version='0.0.2')"
   ]
  },
  {
   "cell_type": "code",
   "execution_count": null,
   "metadata": {},
   "outputs": [],
   "source": [
    "# Epoch 72: train_clf_error 0.11907 / train_reg_error 0.17316 / val_clf_error 0.04312 / val_reg_error 0.07061\n",
    "\n",
    "# Epoch 49: train_clf_error 0.11514 / train_reg_error 0.16339 / val_clf_error 0.11759 / val_reg_error 0.09096\n",
    "# Epoch 45: train_clf_error 0.13395 / train_reg_error 0.17194 / val_clf_error 0.06827 / val_reg_error 0.05028\n",
    "# Epoch 62: train_clf_error 0.11637 / train_reg_error 0.15685 / val_clf_error 0.02619 / val_reg_error 0.08079"
   ]
  },
  {
   "cell_type": "code",
   "execution_count": null,
   "metadata": {},
   "outputs": [],
   "source": [
    "for k,v in best_metrics.items():\n",
    "    print('{} {:.4f}'.format(k,v))"
   ]
  },
  {
   "cell_type": "markdown",
   "metadata": {},
   "source": [
    "## 5. Test Model"
   ]
  },
  {
   "cell_type": "code",
   "execution_count": null,
   "metadata": {},
   "outputs": [],
   "source": [
    "# load pretrained model\n",
    "model = Model(input_dim=input_dim, hidden_dim=hidden_dim, kernel_size=kernel_size, pool_size=pool_size, n_max=n_max, device='cpu', version='0.0.1')\n",
    "checkpoint_file = os.path.join(checkpoint_dir, model.folder, 'model.pth')\n",
    "model.load_checkpoint(checkpoint_file=checkpoint_file)\n",
    "model = model.eval()"
   ]
  },
  {
   "cell_type": "code",
   "execution_count": null,
   "metadata": {},
   "outputs": [],
   "source": [
    "# Display failures (train, val), scatter plot (Predicted vs True) and inspect hidden channels --> Re label?\n",
    "get_failures_or_success(model, val_dataset, hidden_channel=1, success=None, filter_on=None, plot_heatmap=False)"
   ]
  },
  {
   "cell_type": "code",
   "execution_count": null,
   "metadata": {},
   "outputs": [],
   "source": []
  },
  {
   "cell_type": "code",
   "execution_count": null,
   "metadata": {},
   "outputs": [],
   "source": []
  }
 ],
 "metadata": {
  "kernelspec": {
   "display_name": "Python 3",
   "language": "python",
   "name": "python3"
  },
  "language_info": {
   "codemirror_mode": {
    "name": "ipython",
    "version": 3
   },
   "file_extension": ".py",
   "mimetype": "text/x-python",
   "name": "python",
   "nbconvert_exporter": "python",
   "pygments_lexer": "ipython3",
   "version": "3.7.6"
  }
 },
 "nbformat": 4,
 "nbformat_minor": 4
}
