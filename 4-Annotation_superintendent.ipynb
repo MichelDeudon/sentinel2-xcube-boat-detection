{
 "cells": [
  {
   "cell_type": "code",
   "execution_count": 2,
   "metadata": {},
   "outputs": [
    {
     "name": "stdout",
     "output_type": "stream",
     "text": [
      "The dotenv extension is already loaded. To reload it, use:\n",
      "  %reload_ext dotenv\n"
     ]
    }
   ],
   "source": [
    "%reload_ext autoreload\n",
    "%autoreload 2\n",
    "%load_ext dotenv\n",
    "%dotenv\n",
    "%matplotlib inline\n",
    "\n",
    "import os \n",
    "import io\n",
    "import math\n",
    "from datetime import datetime \n",
    "import shapely.geometry\n",
    "import json\n",
    "from pathlib import Path\n",
    "import pathlib\n",
    "\n",
    "import IPython.display\n",
    "from IPython.display import display\n",
    "from ipywidgets import GridspecLayout\n",
    "import ipywidgets as widgets\n",
    "\n",
    "from xcube_sh.cube import open_cube\n",
    "from xcube_sh.observers import Observers\n",
    "\n",
    "from src.GIS_utils import bbox_from_point\n",
    "from src.config import CubeConfig\n",
    "from src.preprocess import preprocess, plot_cube_and_background, save_labels, save_cubes\n",
    "\n",
    "\n",
    "import numpy as np\n",
    "from skimage.io import imread\n",
    "import matplotlib.pyplot as plt\n",
    "from PIL import Image\n",
    "import pandas as pd\n",
    "\n",
    "import superintendent"
   ]
  },
  {
   "cell_type": "code",
   "execution_count": 3,
   "metadata": {},
   "outputs": [],
   "source": [
    "def request_save_cubes(start_date, end_date, lat, lon, RADIUS = 500, \n",
    "               dataset_name='S2L1C', band_names=['B03', 'B08', 'CLP'], \n",
    "               max_cloud_proba=0.1, time_period='1D'):\n",
    "    \n",
    "    bbox = bbox_from_point(lat=lat, lon=lon, r=RADIUS)\n",
    "    cube_config = CubeConfig(dataset_name=dataset_name,\n",
    "                             band_names=band_names, # GREEN + NIR + Clouds\n",
    "                             tile_size=[2*RADIUS//10, 2*RADIUS//10],\n",
    "                             geometry=bbox,\n",
    "                             time_range=[start_date, end_date],\n",
    "                             time_period=time_period,\n",
    "                            )\n",
    "    request_collector = Observers.request_collector()\n",
    "    cube = open_cube(cube_config, observer=request_collector)\n",
    "\n",
    "    cube, background_ndwi = preprocess(cube, max_cloud_proba=max_cloud_proba, \n",
    "                                       nans_how='any', verbose=1, plot_NDWI=False)\n",
    "    save_cubes(cube, background_ndwi, lat_lon=(lat,lon), data_dir=Path(data_chips_dir), verbose=False)\n"
   ]
  },
  {
   "cell_type": "code",
   "execution_count": 4,
   "metadata": {},
   "outputs": [],
   "source": [
    "aoi_json_filepath = \"data/aoi.json\"\n",
    "data_chips_dir = \"/home/jovyan/data/chips/\"\n",
    "\n",
    "start_date_2019 = '2019-01-01'\n",
    "end_date_2019 = '2019-06-30'\n",
    "\n",
    "start_date_2020 = '2020-01-01'\n",
    "end_date_2020 = '2020-06-30'"
   ]
  },
  {
   "cell_type": "markdown",
   "metadata": {},
   "source": [
    "### request and download images"
   ]
  },
  {
   "cell_type": "code",
   "execution_count": 69,
   "metadata": {},
   "outputs": [
    {
     "name": "stdout",
     "output_type": "stream",
     "text": [
      "aoi name: Tallin-Helsinki, subdir lat_59_965_lon_24_881, download 2019 images\n",
      "Keeping 66/181 images without nans\n",
      "Keeping 27/181 images 90.0% cloudless\n",
      "aoi name: Tallin-Helsinki, subdir lat_59_965_lon_24_881, download 2020 images\n",
      "Keeping 53/182 images without nans\n",
      "Keeping 20/182 images 90.0% cloudless\n"
     ]
    }
   ],
   "source": [
    "with open(aoi_json_filepath, \"r\") as f: \n",
    "    aoi_file = json.load(f)\n",
    "    straits_dict = aoi_file['Straits']\n",
    "    for aoi_name, aoi_locs in straits_dict.items():\n",
    "        for loc in aoi_locs:\n",
    "            lat, lon = loc[0], loc[1]\n",
    "            subdir = 'lat_{}_lon_{}'.format(str(lat).replace('.','_'), str(lon).replace('.','_'))\n",
    "            # 2019 \n",
    "            if not Path(data_chips_dir, subdir).exists() or len(list(Path(data_chips_dir, subdir).glob(\"*2019*.png\"))) == 0:\n",
    "                print(f\"aoi name: {aoi_name}, subdir {subdir}, download 2019 images\")\n",
    "                request_save_cubes(start_date_2019, end_date_2019, lat, lon)\n",
    "            # 2020\n",
    "            if not Path(data_chips_dir, subdir).exists() or len(list(Path(data_chips_dir, subdir).glob(\"*2020*.png\"))) == 0:\n",
    "                print(f\"aoi name: {aoi_name}, subdir {subdir}, download 2020 images\")\n",
    "                request_save_cubes(start_date_2020, end_date_2020, lat, lon)    "
   ]
  },
  {
   "cell_type": "markdown",
   "metadata": {},
   "source": [
    "### extract images to be labeled"
   ]
  },
  {
   "cell_type": "code",
   "execution_count": 70,
   "metadata": {},
   "outputs": [
    {
     "data": {
      "text/plain": [
       "(897,\n",
       " PosixPath('/home/jovyan/data/chips/lat_36_02_lon_-5_36/img_ndwi_t_2019-05-02.png'))"
      ]
     },
     "execution_count": 70,
     "metadata": {},
     "output_type": "execute_result"
    }
   ],
   "source": [
    "stratis_images = []\n",
    "with open(aoi_json_filepath, \"r\") as f: \n",
    "    aoi_file = json.load(f)\n",
    "    straits_dict = aoi_file['Straits']\n",
    "    for aoi_name, aoi_locs in straits_dict.items():\n",
    "        for loc in aoi_locs:\n",
    "            lat, lon = loc[0], loc[1]\n",
    "            subdir = 'lat_{}_lon_{}'.format(str(lat).replace('.','_'), str(lon).replace('.','_'))\n",
    "            if Path(data_chips_dir, subdir).exists():\n",
    "                stratis_images.extend(Path(data_chips_dir, subdir).glob(\"img_ndwi*.png\"))\n",
    "len(stratis_images), stratis_images[0]"
   ]
  },
  {
   "cell_type": "code",
   "execution_count": 71,
   "metadata": {},
   "outputs": [
    {
     "data": {
      "text/plain": [
       "905"
      ]
     },
     "execution_count": 71,
     "metadata": {},
     "output_type": "execute_result"
    }
   ],
   "source": [
    "csv_file_path = \"/home/jovyan/data/straits_labels.csv\"\n",
    "labels_df = pd.read_csv(csv_file_path, index_col=\"file_path\")\n",
    "len(labels_df)"
   ]
  },
  {
   "cell_type": "code",
   "execution_count": 72,
   "metadata": {},
   "outputs": [],
   "source": [
    "tobe_labeled_images = []\n",
    "for dir_ in stratis_images:\n",
    "     if pd.isnull(labels_df.loc[str(dir_), \"count\"]):\n",
    "        tobe_labeled_images.append(dir_)"
   ]
  },
  {
   "cell_type": "code",
   "execution_count": 73,
   "metadata": {},
   "outputs": [
    {
     "data": {
      "text/plain": [
       "43"
      ]
     },
     "execution_count": 73,
     "metadata": {},
     "output_type": "execute_result"
    }
   ],
   "source": [
    "len(tobe_labeled_images)"
   ]
  },
  {
   "cell_type": "code",
   "execution_count": 74,
   "metadata": {},
   "outputs": [
    {
     "name": "stdout",
     "output_type": "stream",
     "text": [
      "43\n"
     ]
    },
    {
     "data": {
      "application/vnd.jupyter.widget-view+json": {
       "model_id": "6f16a2ac54a646bcad29e5829b7c651b",
       "version_major": 2,
       "version_minor": 0
      },
      "text/plain": [
       "ClassLabeller(children=(HBox(children=(FloatProgress(value=0.0, description='Progress:', max=1.0),)), Box(chil…"
      ]
     },
     "metadata": {},
     "output_type": "display_data"
    }
   ],
   "source": [
    "# images = [f for f in pathlib.Path(\"/home/jovyan/data/chips\").glob(\"*/img_ndwi*.png\") if f.is_file()]\n",
    "images = tobe_labeled_images\n",
    "print(len(images))\n",
    "\n",
    "def change_colormap(image_path:pathlib.Path, cmap='RdYlBu'):\n",
    "    feature = imread(image_path)\n",
    "    cm = plt.get_cmap(cmap)\n",
    "    colored_image = cm(-feature)\n",
    "    colored_feature = Image.fromarray(np.uint8(colored_image * 255))\n",
    "    imgByteArr = io.BytesIO()\n",
    "    colored_feature.save(imgByteArr, format='PNG')\n",
    "    imgByteArr = imgByteArr.getvalue()\n",
    "    return imgByteArr\n",
    "    \n",
    "def display_image_and_references(image_path):\n",
    "    image_folder = image_path.parent\n",
    "    print(image_folder)\n",
    "    \n",
    "    other_images = [\n",
    "        f for f in image_folder.glob(\"img_ndwi*.png\")\n",
    "        if f.is_file() and f != image_path\n",
    "    ]\n",
    "    other_images.extend(image_folder.glob(\"bg_ndwi*.png\"))\n",
    "   \n",
    "    n_col = 4\n",
    "    n_row = max(math.ceil(len(other_images) / n_col), 1)\n",
    "    grid = GridspecLayout(n_row, n_col)\n",
    "    \n",
    "    for i in range(n_row):\n",
    "        for j in range(n_col):\n",
    "            img_index = i * n_col + j\n",
    "            if img_index >= len(other_images): break\n",
    "            image = other_images[img_index]\n",
    "            grid[i, j] = widgets.VBox([\n",
    "                    widgets.Label(f\"Image {image.name}\"),\n",
    "                    widgets.Image(value=change_colormap(image), \n",
    "                             layout=widgets.Layout(width='200px', height='200px')),\n",
    "                ])\n",
    "    \n",
    "    image_display = widgets.VBox([\n",
    "        widgets.VBox([\n",
    "            widgets.Label(f\"folder: {image_folder}\"),\n",
    "            widgets.Label(f\"all other images of the same loc\"),\n",
    "            grid,\n",
    "            widgets.Label(f\"image to label: {image_path.name}\"),\n",
    "            widgets.Image(value=change_colormap(image_path), object_fit='none', \n",
    "                          layout=widgets.Layout(width='300px', height='300px'))\n",
    "        ]),\n",
    "        \n",
    "    ])\n",
    "    display(image_display)\n",
    "\n",
    "labeller = superintendent.ClassLabeller(\n",
    "    features=images,\n",
    "    options=[i for i in range(6)],\n",
    "    display_func=display_image_and_references,\n",
    ")\n",
    "\n",
    "labeller"
   ]
  },
  {
   "cell_type": "code",
   "execution_count": 75,
   "metadata": {},
   "outputs": [
    {
     "name": "stdout",
     "output_type": "stream",
     "text": [
      "43\n"
     ]
    }
   ],
   "source": [
    "tobe_labeled_images\n",
    "labeller.new_labels\n",
    "print(len(tobe_labeled_images))"
   ]
  },
  {
   "cell_type": "code",
   "execution_count": 76,
   "metadata": {},
   "outputs": [],
   "source": [
    "for i in range(len(tobe_labeled_images)):\n",
    "    labels_df.at[str(tobe_labeled_images[i])] = labeller.new_labels[i]"
   ]
  },
  {
   "cell_type": "code",
   "execution_count": 77,
   "metadata": {},
   "outputs": [
    {
     "data": {
      "text/plain": [
       "905"
      ]
     },
     "execution_count": 77,
     "metadata": {},
     "output_type": "execute_result"
    }
   ],
   "source": [
    "len(labels_df)"
   ]
  },
  {
   "cell_type": "code",
   "execution_count": 80,
   "metadata": {},
   "outputs": [],
   "source": [
    "labels_df = labels_df[labels_df[\"count\"].notnull()]"
   ]
  },
  {
   "cell_type": "code",
   "execution_count": 82,
   "metadata": {},
   "outputs": [
    {
     "data": {
      "text/plain": [
       "897"
      ]
     },
     "execution_count": 82,
     "metadata": {},
     "output_type": "execute_result"
    }
   ],
   "source": [
    "len(labels_df)"
   ]
  },
  {
   "cell_type": "code",
   "execution_count": 83,
   "metadata": {},
   "outputs": [],
   "source": [
    "csv_file_path = \"/home/jovyan/data/straits_labels.csv\"\n",
    "labels_df.to_csv(csv_file_path)"
   ]
  },
  {
   "cell_type": "code",
   "execution_count": null,
   "metadata": {},
   "outputs": [],
   "source": []
  }
 ],
 "metadata": {
  "kernelspec": {
   "display_name": "Python 3",
   "language": "python",
   "name": "python3"
  },
  "language_info": {
   "codemirror_mode": {
    "name": "ipython",
    "version": 3
   },
   "file_extension": ".py",
   "mimetype": "text/x-python",
   "name": "python",
   "nbconvert_exporter": "python",
   "pygments_lexer": "ipython3",
   "version": "3.7.6"
  }
 },
 "nbformat": 4,
 "nbformat_minor": 4
}
