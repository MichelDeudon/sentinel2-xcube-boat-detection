{
 "cells": [
  {
   "cell_type": "code",
   "execution_count": 1,
   "metadata": {},
   "outputs": [],
   "source": [
    "%reload_ext autoreload\n",
    "%autoreload 2\n",
    "%load_ext dotenv\n",
    "%dotenv\n",
    "%matplotlib inline\n",
    "\n",
    "import os \n",
    "import glob\n",
    "import io\n",
    "import math\n",
    "from datetime import datetime \n",
    "import shapely.geometry\n",
    "import json\n",
    "from pathlib import Path\n",
    "import pathlib\n",
    "\n",
    "import IPython.display\n",
    "from IPython.display import display\n",
    "from ipywidgets import GridspecLayout\n",
    "import ipywidgets as widgets\n",
    "\n",
    "from xcube_sh.cube import open_cube\n",
    "from xcube_sh.observers import Observers\n",
    "\n",
    "from src.GIS_utils import bbox_from_point\n",
    "from src.config import CubeConfig\n",
    "from src.preprocess import preprocess, plot_cube_and_background, save_labels, save_cubes\n",
    "\n",
    "\n",
    "import numpy as np\n",
    "from skimage.io import imread\n",
    "import matplotlib.pyplot as plt\n",
    "from PIL import Image\n",
    "import pandas as pd\n",
    "\n",
    "import superintendent"
   ]
  },
  {
   "cell_type": "code",
   "execution_count": null,
   "metadata": {},
   "outputs": [],
   "source": [
    "def request_save_cubes(start_date, end_date, lat, lon, RADIUS = 500, \n",
    "               dataset_name='S2L1C', band_names=['B03', 'B08', 'CLP'], \n",
    "               max_cloud_proba=0.1, time_period='1D'):\n",
    "    \n",
    "    bbox = bbox_from_point(lat=lat, lon=lon, r=RADIUS)\n",
    "    cube_config = CubeConfig(dataset_name=dataset_name,\n",
    "                             band_names=band_names, # GREEN + NIR + Clouds\n",
    "                             tile_size=[2*RADIUS//10, 2*RADIUS//10],\n",
    "                             geometry=bbox,\n",
    "                             time_range=[start_date, end_date],\n",
    "                             time_period=time_period,\n",
    "                            )\n",
    "    request_collector = Observers.request_collector()\n",
    "    cube = open_cube(cube_config, observer=request_collector)\n",
    "\n",
    "    cube, background_ndwi = preprocess(cube, max_cloud_proba=max_cloud_proba, \n",
    "                                       nans_how='any', verbose=1, plot_NDWI=False)\n",
    "    save_cubes(cube, background_ndwi, lat_lon=(lat,lon), data_dir=Path(data_chips_dir), verbose=False)\n"
   ]
  },
  {
   "cell_type": "code",
   "execution_count": null,
   "metadata": {},
   "outputs": [],
   "source": [
    "aoi_json_filepath = \"data/aoi.json\"\n",
    "data_chips_dir = \"/home/jovyan/data/chips/\"\n",
    "\n",
    "start_date_2019 = '2019-01-01'\n",
    "end_date_2019 = '2019-06-30'\n",
    "\n",
    "start_date_2020 = '2020-01-01'\n",
    "end_date_2020 = '2020-06-30'"
   ]
  },
  {
   "cell_type": "markdown",
   "metadata": {},
   "source": [
    "### request and download images"
   ]
  },
  {
   "cell_type": "code",
   "execution_count": null,
   "metadata": {},
   "outputs": [],
   "source": [
    "with open(aoi_json_filepath, \"r\") as f: \n",
    "    aoi_file = json.load(f)\n",
    "    straits_dict = aoi_file['Straits']\n",
    "    for aoi_name, aoi_locs in straits_dict.items():\n",
    "        for loc in aoi_locs:\n",
    "            lat, lon = loc[0], loc[1]\n",
    "            subdir = 'lat_{}_lon_{}'.format(str(lat).replace('.','_'), str(lon).replace('.','_'))\n",
    "            # 2019 \n",
    "            if not Path(data_chips_dir, subdir).exists() or len(list(Path(data_chips_dir, subdir).glob(\"*2019*.png\"))) == 0:\n",
    "                print(f\"aoi name: {aoi_name}, subdir {subdir}, download 2019 images\")\n",
    "                request_save_cubes(start_date_2019, end_date_2019, lat, lon)\n",
    "            # 2020\n",
    "            if not Path(data_chips_dir, subdir).exists() or len(list(Path(data_chips_dir, subdir).glob(\"*2020*.png\"))) == 0:\n",
    "                print(f\"aoi name: {aoi_name}, subdir {subdir}, download 2020 images\")\n",
    "                request_save_cubes(start_date_2020, end_date_2020, lat, lon)    "
   ]
  },
  {
   "cell_type": "markdown",
   "metadata": {},
   "source": [
    "### extract images to be labeled"
   ]
  },
  {
   "cell_type": "code",
   "execution_count": null,
   "metadata": {},
   "outputs": [],
   "source": [
    "stratis_images = []\n",
    "with open(aoi_json_filepath, \"r\") as f: \n",
    "    aoi_file = json.load(f)\n",
    "    straits_dict = aoi_file['Straits']\n",
    "    for aoi_name, aoi_locs in straits_dict.items():\n",
    "        for loc in aoi_locs:\n",
    "            lat, lon = loc[0], loc[1]\n",
    "            subdir = 'lat_{}_lon_{}'.format(str(lat).replace('.','_'), str(lon).replace('.','_'))\n",
    "            if Path(data_chips_dir, subdir).exists():\n",
    "                stratis_images.extend(Path(data_chips_dir, subdir).glob(\"img_ndwi*.png\"))\n",
    "len(stratis_images), stratis_images[0]"
   ]
  },
  {
   "cell_type": "code",
   "execution_count": null,
   "metadata": {},
   "outputs": [],
   "source": [
    "csv_file_path = \"/home/jovyan/data/straits_labels.csv\"\n",
    "labels_df = pd.read_csv(csv_file_path, index_col=\"file_path\")\n",
    "len(labels_df)"
   ]
  },
  {
   "cell_type": "code",
   "execution_count": null,
   "metadata": {},
   "outputs": [],
   "source": [
    "tobe_labeled_images = []\n",
    "for dir_ in stratis_images:\n",
    "     if str(dir_) not in labels_df.index or pd.isnull(labels_df.loc[str(dir_), \"count\"]):\n",
    "        tobe_labeled_images.append(dir_)"
   ]
  },
  {
   "cell_type": "code",
   "execution_count": null,
   "metadata": {},
   "outputs": [],
   "source": [
    "len(tobe_labeled_images)"
   ]
  },
  {
   "cell_type": "code",
   "execution_count": null,
   "metadata": {},
   "outputs": [],
   "source": [
    "# images = [f for f in pathlib.Path(\"/home/jovyan/data/chips\").glob(\"*/img_ndwi*.png\") if f.is_file()]\n",
    "images = tobe_labeled_images\n",
    "print(len(images))\n",
    "\n",
    "def change_colormap(image_path:pathlib.Path, cmap='RdYlBu'):\n",
    "    feature = imread(image_path)\n",
    "    cm = plt.get_cmap(cmap)\n",
    "    colored_image = cm(-feature)\n",
    "    colored_feature = Image.fromarray(np.uint8(colored_image * 255))\n",
    "    imgByteArr = io.BytesIO()\n",
    "    colored_feature.save(imgByteArr, format='PNG')\n",
    "    imgByteArr = imgByteArr.getvalue()\n",
    "    return imgByteArr\n",
    "    \n",
    "def display_image_and_references(image_path):\n",
    "    image_folder = image_path.parent\n",
    "    print(image_folder)\n",
    "    \n",
    "    other_images = [\n",
    "        f for f in image_folder.glob(\"img_ndwi*.png\")\n",
    "        if f.is_file() and f != image_path\n",
    "    ]\n",
    "    other_images.extend(image_folder.glob(\"bg_ndwi*.png\"))\n",
    "   \n",
    "    n_col = 4\n",
    "    n_row = max(math.ceil(len(other_images) / n_col), 1)\n",
    "    grid = GridspecLayout(n_row, n_col)\n",
    "    \n",
    "    for i in range(n_row):\n",
    "        for j in range(n_col):\n",
    "            img_index = i * n_col + j\n",
    "            if img_index >= len(other_images): break\n",
    "            image = other_images[img_index]\n",
    "            grid[i, j] = widgets.VBox([\n",
    "                    widgets.Label(f\"Image {image.name}\"),\n",
    "                    widgets.Image(value=change_colormap(image), \n",
    "                             layout=widgets.Layout(width='200px', height='200px')),\n",
    "                ])\n",
    "    \n",
    "    image_display = widgets.VBox([\n",
    "        widgets.VBox([\n",
    "            widgets.Label(f\"folder: {image_folder}\"),\n",
    "            widgets.Label(f\"all other images of the same loc\"),\n",
    "            grid,\n",
    "            widgets.Label(f\"image to label: {image_path.name}\"),\n",
    "            widgets.Image(value=change_colormap(image_path), object_fit='none', \n",
    "                          layout=widgets.Layout(width='300px', height='300px'))\n",
    "        ]),\n",
    "        \n",
    "    ])\n",
    "    display(image_display)\n",
    "\n",
    "labeller = superintendent.ClassLabeller(\n",
    "    features=images,\n",
    "    options=[i for i in range(-1, 6)],\n",
    "    display_func=display_image_and_references,\n",
    ")\n",
    "\n",
    "labeller"
   ]
  },
  {
   "cell_type": "code",
   "execution_count": null,
   "metadata": {},
   "outputs": [],
   "source": [
    "tobe_labeled_images\n",
    "labeller.new_labels\n",
    "print(len(tobe_labeled_images))"
   ]
  },
  {
   "cell_type": "code",
   "execution_count": null,
   "metadata": {},
   "outputs": [],
   "source": [
    "for i in range(len(tobe_labeled_images)):\n",
    "    labels_df.at[str(tobe_labeled_images[i])] = labeller.new_labels[i]"
   ]
  },
  {
   "cell_type": "code",
   "execution_count": null,
   "metadata": {},
   "outputs": [],
   "source": [
    "len(labels_df)"
   ]
  },
  {
   "cell_type": "code",
   "execution_count": null,
   "metadata": {},
   "outputs": [],
   "source": [
    "labels_df = labels_df[labels_df[\"count\"].notnull()]"
   ]
  },
  {
   "cell_type": "code",
   "execution_count": null,
   "metadata": {},
   "outputs": [],
   "source": [
    "len(labels_df)"
   ]
  },
  {
   "cell_type": "code",
   "execution_count": null,
   "metadata": {},
   "outputs": [],
   "source": [
    "labels_df['count'] = labels_df['count'].astype(float)"
   ]
  },
  {
   "cell_type": "code",
   "execution_count": null,
   "metadata": {},
   "outputs": [],
   "source": [
    "labels_df['count'].hist()"
   ]
  },
  {
   "cell_type": "code",
   "execution_count": null,
   "metadata": {},
   "outputs": [],
   "source": [
    "# see how imbalance of the data is\n",
    "len(labels_df[labels_df['count'] > 0])/len(labels_df)"
   ]
  },
  {
   "cell_type": "code",
   "execution_count": null,
   "metadata": {},
   "outputs": [],
   "source": [
    "csv_file_path = \"/home/jovyan/data/straits_labels.csv\"\n",
    "labels_df.to_csv(csv_file_path)"
   ]
  },
  {
   "cell_type": "markdown",
   "metadata": {},
   "source": [
    " ### 2. From labels.csv to labels_lean.csv"
   ]
  },
  {
   "cell_type": "code",
   "execution_count": 21,
   "metadata": {},
   "outputs": [],
   "source": [
    "labels_filename = '/home/jovyan/data/labels.csv'\n",
    "df_labels = pd.read_csv(labels_filename, index_col = 'file_path', dtype={'count': float}) \n",
    "for index, row in df_labels.iterrows():\n",
    "    file_path = Path(index)\n",
    "    timestamp = file_path.stem.split('t_')[1]\n",
    "    lat_lon = file_path.parts[-2]\n",
    "    df_labels.at[index, \"timestamp\"] = timestamp\n",
    "    df_labels.at[index, \"lat_lon\"] = lat_lon"
   ]
  },
  {
   "cell_type": "markdown",
   "metadata": {},
   "source": [
    "### Sanity check if all lat_lon under data/chips is in the df. "
   ]
  },
  {
   "cell_type": "code",
   "execution_count": 22,
   "metadata": {},
   "outputs": [],
   "source": [
    "data_dir = \"/home/jovyan/data/chips\"\n",
    "coords = os.listdir(data_dir)\n",
    "coords_in_df = df_labels.reset_index().groupby('lat_lon').groups.keys()\n",
    "for coord in coords:\n",
    "    if not coord.startswith(\".\"):\n",
    "        assert coord in coords_in_df"
   ]
  },
  {
   "cell_type": "code",
   "execution_count": 23,
   "metadata": {},
   "outputs": [
    {
     "data": {
      "text/html": [
       "<div>\n",
       "<style scoped>\n",
       "    .dataframe tbody tr th:only-of-type {\n",
       "        vertical-align: middle;\n",
       "    }\n",
       "\n",
       "    .dataframe tbody tr th {\n",
       "        vertical-align: top;\n",
       "    }\n",
       "\n",
       "    .dataframe thead th {\n",
       "        text-align: right;\n",
       "    }\n",
       "</style>\n",
       "<table border=\"1\" class=\"dataframe\">\n",
       "  <thead>\n",
       "    <tr style=\"text-align: right;\">\n",
       "      <th></th>\n",
       "      <th>count</th>\n",
       "      <th>timestamp</th>\n",
       "      <th>lat_lon</th>\n",
       "    </tr>\n",
       "    <tr>\n",
       "      <th>file_path</th>\n",
       "      <th></th>\n",
       "      <th></th>\n",
       "      <th></th>\n",
       "    </tr>\n",
       "  </thead>\n",
       "  <tbody>\n",
       "    <tr>\n",
       "      <th>/home/jovyan/data/chips/lat_36_02_lon_-5_36/img_08_t_2019-05-02.png</th>\n",
       "      <td>0.0</td>\n",
       "      <td>2019-05-02</td>\n",
       "      <td>lat_36_02_lon_-5_36</td>\n",
       "    </tr>\n",
       "    <tr>\n",
       "      <th>/home/jovyan/data/chips/lat_36_02_lon_-5_36/img_08_t_2019-04-12.png</th>\n",
       "      <td>0.0</td>\n",
       "      <td>2019-04-12</td>\n",
       "      <td>lat_36_02_lon_-5_36</td>\n",
       "    </tr>\n",
       "    <tr>\n",
       "      <th>/home/jovyan/data/chips/lat_36_02_lon_-5_36/img_08_t_2019-01-24.png</th>\n",
       "      <td>0.0</td>\n",
       "      <td>2019-01-24</td>\n",
       "      <td>lat_36_02_lon_-5_36</td>\n",
       "    </tr>\n",
       "    <tr>\n",
       "      <th>/home/jovyan/data/chips/lat_36_02_lon_-5_36/img_08_t_2019-03-13.png</th>\n",
       "      <td>0.0</td>\n",
       "      <td>2019-03-13</td>\n",
       "      <td>lat_36_02_lon_-5_36</td>\n",
       "    </tr>\n",
       "    <tr>\n",
       "      <th>/home/jovyan/data/chips/lat_36_02_lon_-5_36/img_08_t_2020-03-22.png</th>\n",
       "      <td>0.0</td>\n",
       "      <td>2020-03-22</td>\n",
       "      <td>lat_36_02_lon_-5_36</td>\n",
       "    </tr>\n",
       "    <tr>\n",
       "      <th>...</th>\n",
       "      <td>...</td>\n",
       "      <td>...</td>\n",
       "      <td>...</td>\n",
       "    </tr>\n",
       "    <tr>\n",
       "      <th>/home/jovyan/data/chips/lat_57_07_lon_24_01/img_08_t_2020-04-17.png</th>\n",
       "      <td>0.0</td>\n",
       "      <td>2020-04-17</td>\n",
       "      <td>lat_57_07_lon_24_01</td>\n",
       "    </tr>\n",
       "    <tr>\n",
       "      <th>/home/jovyan/data/chips/lat_57_07_lon_24_01/img_08_t_2020-03-13.png</th>\n",
       "      <td>0.0</td>\n",
       "      <td>2020-03-13</td>\n",
       "      <td>lat_57_07_lon_24_01</td>\n",
       "    </tr>\n",
       "    <tr>\n",
       "      <th>/home/jovyan/data/chips/lat_57_07_lon_24_01/img_08_t_2020-05-02.png</th>\n",
       "      <td>0.0</td>\n",
       "      <td>2020-05-02</td>\n",
       "      <td>lat_57_07_lon_24_01</td>\n",
       "    </tr>\n",
       "    <tr>\n",
       "      <th>/home/jovyan/data/chips/lat_57_07_lon_24_01/img_08_t_2020-04-27.png</th>\n",
       "      <td>0.0</td>\n",
       "      <td>2020-04-27</td>\n",
       "      <td>lat_57_07_lon_24_01</td>\n",
       "    </tr>\n",
       "    <tr>\n",
       "      <th>/home/jovyan/data/chips/lat_57_07_lon_24_01/img_08_t_2020-03-23.png</th>\n",
       "      <td>1.0</td>\n",
       "      <td>2020-03-23</td>\n",
       "      <td>lat_57_07_lon_24_01</td>\n",
       "    </tr>\n",
       "  </tbody>\n",
       "</table>\n",
       "<p>2213 rows × 3 columns</p>\n",
       "</div>"
      ],
      "text/plain": [
       "                                                    count   timestamp  \\\n",
       "file_path                                                               \n",
       "/home/jovyan/data/chips/lat_36_02_lon_-5_36/img...    0.0  2019-05-02   \n",
       "/home/jovyan/data/chips/lat_36_02_lon_-5_36/img...    0.0  2019-04-12   \n",
       "/home/jovyan/data/chips/lat_36_02_lon_-5_36/img...    0.0  2019-01-24   \n",
       "/home/jovyan/data/chips/lat_36_02_lon_-5_36/img...    0.0  2019-03-13   \n",
       "/home/jovyan/data/chips/lat_36_02_lon_-5_36/img...    0.0  2020-03-22   \n",
       "...                                                   ...         ...   \n",
       "/home/jovyan/data/chips/lat_57_07_lon_24_01/img...    0.0  2020-04-17   \n",
       "/home/jovyan/data/chips/lat_57_07_lon_24_01/img...    0.0  2020-03-13   \n",
       "/home/jovyan/data/chips/lat_57_07_lon_24_01/img...    0.0  2020-05-02   \n",
       "/home/jovyan/data/chips/lat_57_07_lon_24_01/img...    0.0  2020-04-27   \n",
       "/home/jovyan/data/chips/lat_57_07_lon_24_01/img...    1.0  2020-03-23   \n",
       "\n",
       "                                                                lat_lon  \n",
       "file_path                                                                \n",
       "/home/jovyan/data/chips/lat_36_02_lon_-5_36/img...  lat_36_02_lon_-5_36  \n",
       "/home/jovyan/data/chips/lat_36_02_lon_-5_36/img...  lat_36_02_lon_-5_36  \n",
       "/home/jovyan/data/chips/lat_36_02_lon_-5_36/img...  lat_36_02_lon_-5_36  \n",
       "/home/jovyan/data/chips/lat_36_02_lon_-5_36/img...  lat_36_02_lon_-5_36  \n",
       "/home/jovyan/data/chips/lat_36_02_lon_-5_36/img...  lat_36_02_lon_-5_36  \n",
       "...                                                                 ...  \n",
       "/home/jovyan/data/chips/lat_57_07_lon_24_01/img...  lat_57_07_lon_24_01  \n",
       "/home/jovyan/data/chips/lat_57_07_lon_24_01/img...  lat_57_07_lon_24_01  \n",
       "/home/jovyan/data/chips/lat_57_07_lon_24_01/img...  lat_57_07_lon_24_01  \n",
       "/home/jovyan/data/chips/lat_57_07_lon_24_01/img...  lat_57_07_lon_24_01  \n",
       "/home/jovyan/data/chips/lat_57_07_lon_24_01/img...  lat_57_07_lon_24_01  \n",
       "\n",
       "[2213 rows x 3 columns]"
      ]
     },
     "execution_count": 23,
     "metadata": {},
     "output_type": "execute_result"
    }
   ],
   "source": [
    "df_labels"
   ]
  },
  {
   "cell_type": "code",
   "execution_count": 25,
   "metadata": {},
   "outputs": [],
   "source": [
    "df_labels.reset_index(inplace=True)"
   ]
  },
  {
   "cell_type": "code",
   "execution_count": 32,
   "metadata": {},
   "outputs": [
    {
     "data": {
      "text/html": [
       "<div>\n",
       "<style scoped>\n",
       "    .dataframe tbody tr th:only-of-type {\n",
       "        vertical-align: middle;\n",
       "    }\n",
       "\n",
       "    .dataframe tbody tr th {\n",
       "        vertical-align: top;\n",
       "    }\n",
       "\n",
       "    .dataframe thead th {\n",
       "        text-align: right;\n",
       "    }\n",
       "</style>\n",
       "<table border=\"1\" class=\"dataframe\">\n",
       "  <thead>\n",
       "    <tr style=\"text-align: right;\">\n",
       "      <th></th>\n",
       "      <th>lat_lon</th>\n",
       "      <th>timestamp</th>\n",
       "      <th>count</th>\n",
       "    </tr>\n",
       "  </thead>\n",
       "  <tbody>\n",
       "    <tr>\n",
       "      <th>0</th>\n",
       "      <td>lat_36_02_lon_-5_36</td>\n",
       "      <td>2019-05-02</td>\n",
       "      <td>0.0</td>\n",
       "    </tr>\n",
       "    <tr>\n",
       "      <th>1</th>\n",
       "      <td>lat_36_02_lon_-5_36</td>\n",
       "      <td>2019-04-12</td>\n",
       "      <td>0.0</td>\n",
       "    </tr>\n",
       "    <tr>\n",
       "      <th>2</th>\n",
       "      <td>lat_36_02_lon_-5_36</td>\n",
       "      <td>2019-01-24</td>\n",
       "      <td>0.0</td>\n",
       "    </tr>\n",
       "    <tr>\n",
       "      <th>3</th>\n",
       "      <td>lat_36_02_lon_-5_36</td>\n",
       "      <td>2019-03-13</td>\n",
       "      <td>0.0</td>\n",
       "    </tr>\n",
       "    <tr>\n",
       "      <th>4</th>\n",
       "      <td>lat_36_02_lon_-5_36</td>\n",
       "      <td>2020-03-22</td>\n",
       "      <td>0.0</td>\n",
       "    </tr>\n",
       "    <tr>\n",
       "      <th>...</th>\n",
       "      <td>...</td>\n",
       "      <td>...</td>\n",
       "      <td>...</td>\n",
       "    </tr>\n",
       "    <tr>\n",
       "      <th>2208</th>\n",
       "      <td>lat_57_07_lon_24_01</td>\n",
       "      <td>2020-04-17</td>\n",
       "      <td>0.0</td>\n",
       "    </tr>\n",
       "    <tr>\n",
       "      <th>2209</th>\n",
       "      <td>lat_57_07_lon_24_01</td>\n",
       "      <td>2020-03-13</td>\n",
       "      <td>0.0</td>\n",
       "    </tr>\n",
       "    <tr>\n",
       "      <th>2210</th>\n",
       "      <td>lat_57_07_lon_24_01</td>\n",
       "      <td>2020-05-02</td>\n",
       "      <td>0.0</td>\n",
       "    </tr>\n",
       "    <tr>\n",
       "      <th>2211</th>\n",
       "      <td>lat_57_07_lon_24_01</td>\n",
       "      <td>2020-04-27</td>\n",
       "      <td>0.0</td>\n",
       "    </tr>\n",
       "    <tr>\n",
       "      <th>2212</th>\n",
       "      <td>lat_57_07_lon_24_01</td>\n",
       "      <td>2020-03-23</td>\n",
       "      <td>1.0</td>\n",
       "    </tr>\n",
       "  </tbody>\n",
       "</table>\n",
       "<p>2213 rows × 3 columns</p>\n",
       "</div>"
      ],
      "text/plain": [
       "                  lat_lon   timestamp  count\n",
       "0     lat_36_02_lon_-5_36  2019-05-02    0.0\n",
       "1     lat_36_02_lon_-5_36  2019-04-12    0.0\n",
       "2     lat_36_02_lon_-5_36  2019-01-24    0.0\n",
       "3     lat_36_02_lon_-5_36  2019-03-13    0.0\n",
       "4     lat_36_02_lon_-5_36  2020-03-22    0.0\n",
       "...                   ...         ...    ...\n",
       "2208  lat_57_07_lon_24_01  2020-04-17    0.0\n",
       "2209  lat_57_07_lon_24_01  2020-03-13    0.0\n",
       "2210  lat_57_07_lon_24_01  2020-05-02    0.0\n",
       "2211  lat_57_07_lon_24_01  2020-04-27    0.0\n",
       "2212  lat_57_07_lon_24_01  2020-03-23    1.0\n",
       "\n",
       "[2213 rows x 3 columns]"
      ]
     },
     "execution_count": 32,
     "metadata": {},
     "output_type": "execute_result"
    }
   ],
   "source": [
    "df_labels_lean = df_labels[['lat_lon', 'timestamp', 'count']]\n",
    "df_labels_lean"
   ]
  },
  {
   "cell_type": "code",
   "execution_count": 33,
   "metadata": {},
   "outputs": [],
   "source": [
    "labels_lean_file = '/home/jovyan/data/labels_lean.csv'\n",
    "df_labels_lean.to_csv(labels_lean_file)"
   ]
  }
 ],
 "metadata": {
  "kernelspec": {
   "display_name": "Python 3",
   "language": "python",
   "name": "python3"
  },
  "language_info": {
   "codemirror_mode": {
    "name": "ipython",
    "version": 3
   },
   "file_extension": ".py",
   "mimetype": "text/x-python",
   "name": "python",
   "nbconvert_exporter": "python",
   "pygments_lexer": "ipython3",
   "version": "3.7.6"
  }
 },
 "nbformat": 4,
 "nbformat_minor": 4
}
