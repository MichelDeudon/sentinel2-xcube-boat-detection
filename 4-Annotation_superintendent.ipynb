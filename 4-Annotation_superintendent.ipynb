{
 "cells": [
  {
   "cell_type": "code",
   "execution_count": 97,
   "metadata": {},
   "outputs": [
    {
     "name": "stdout",
     "output_type": "stream",
     "text": [
      "499\n"
     ]
    },
    {
     "data": {
      "application/vnd.jupyter.widget-view+json": {
       "model_id": "71f6df45002f44699654c52478e43b84",
       "version_major": 2,
       "version_minor": 0
      },
      "text/plain": [
       "ClassLabeller(children=(HBox(children=(FloatProgress(value=0.0, description='Progress:', max=1.0),)), Box(chil…"
      ]
     },
     "metadata": {},
     "output_type": "display_data"
    }
   ],
   "source": [
    "import pathlib\n",
    "import superintendent\n",
    "import ipywidgets as widgets\n",
    "from ipywidgets import GridspecLayout\n",
    "from IPython.display import display\n",
    "import numpy as np\n",
    "from skimage.io import imread\n",
    "import matplotlib.pyplot as plt\n",
    "from PIL import Image\n",
    "import io\n",
    "import math\n",
    "\n",
    "images = [f for f in pathlib.Path(\"/home/jovyan/data/chips\").glob(\"*/img_ndwi*.png\") if f.is_file()]\n",
    "print(len(images))\n",
    "\n",
    "def change_colormap(image_path:pathlib.Path, cmap='RdYlBu'):\n",
    "    feature = imread(image_path)\n",
    "    cm = plt.get_cmap(cmap)\n",
    "    colored_image = cm(-feature)\n",
    "    colored_feature = Image.fromarray(np.uint8(colored_image * 255))\n",
    "    imgByteArr = io.BytesIO()\n",
    "    colored_feature.save(imgByteArr, format='PNG')\n",
    "    imgByteArr = imgByteArr.getvalue()\n",
    "    return imgByteArr\n",
    "    \n",
    "def display_image_and_references(image_path):\n",
    "    image_folder = image_path.parent\n",
    "    \n",
    "    other_images = [\n",
    "        f for f in image_folder.glob(\"img_ndwi*.png\")\n",
    "        if f.is_file() and f != image_path\n",
    "    ]\n",
    "   \n",
    "    n_col = 3\n",
    "    n_row = max(math.ceil(len(other_images) / n_col), 1)\n",
    "    grid = GridspecLayout(n_row, n_col)\n",
    "    for i in range(n_row):\n",
    "        for j in range(n_col):\n",
    "            img_index = j * n_col + i\n",
    "            if img_index >= len(other_images): break\n",
    "            image = other_images[img_index]\n",
    "            grid[i, j] = widgets.VBox([\n",
    "                    widgets.Label(f\"Image {image.name}\"),\n",
    "                    widgets.Image(value=change_colormap(image), \n",
    "                             layout=widgets.Layout(width='200px', height='200px')),\n",
    "                ])\n",
    "    \n",
    "    image_display = widgets.VBox([\n",
    "        widgets.VBox([\n",
    "            widgets.Label(f\"folder: {image_folder}\"),\n",
    "            widgets.Label(f\"all other images of the same loc\"),\n",
    "            grid,\n",
    "            widgets.Label(f\"image to label: {image_path.name}\"),\n",
    "            widgets.Image(value=change_colormap(image_path), object_fit='none', \n",
    "                          layout=widgets.Layout(width='300px', height='300px'))\n",
    "        ]),\n",
    "        \n",
    "    ])\n",
    "    display(image_display)\n",
    "\n",
    "labeller = superintendent.ClassLabeller(\n",
    "    features=images,\n",
    "    options=[i for i in range(6)],\n",
    "    display_func=display_image_and_references,\n",
    ")\n",
    "\n",
    "labeller"
   ]
  },
  {
   "cell_type": "code",
   "execution_count": null,
   "metadata": {},
   "outputs": [],
   "source": []
  }
 ],
 "metadata": {
  "kernelspec": {
   "display_name": "Python 3",
   "language": "python",
   "name": "python3"
  },
  "language_info": {
   "codemirror_mode": {
    "name": "ipython",
    "version": 3
   },
   "file_extension": ".py",
   "mimetype": "text/x-python",
   "name": "python",
   "nbconvert_exporter": "python",
   "pygments_lexer": "ipython3",
   "version": "3.7.6"
  }
 },
 "nbformat": 4,
 "nbformat_minor": 4
}
